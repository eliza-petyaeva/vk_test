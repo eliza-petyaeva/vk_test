{
 "cells": [
  {
   "cell_type": "markdown",
   "metadata": {
    "id": "23PPrsYVQKou"
   },
   "source": [
    "## Скачивание даты и импорт библиотек"
   ]
  },
  {
   "cell_type": "code",
   "execution_count": 1,
   "metadata": {
    "colab": {
     "base_uri": "https://localhost:8080/"
    },
    "id": "L1ft9Pbkbh5p",
    "outputId": "1792006a-7c71-41e3-8fad-932f0ef17179"
   },
   "outputs": [
    {
     "name": "stdout",
     "output_type": "stream",
     "text": [
      "Collecting kaggle\n",
      "  Downloading kaggle-1.5.12.tar.gz (58 kB)\n",
      "     |████████████████████████████████| 58 kB 1.1 MB/s            \n",
      "\u001b[?25h  Preparing metadata (setup.py) ... \u001b[?25ldone\n",
      "\u001b[?25hRequirement already satisfied: six>=1.10 in /Library/Frameworks/Python.framework/Versions/3.9/lib/python3.9/site-packages (from kaggle) (1.15.0)\n",
      "Requirement already satisfied: certifi in /Library/Frameworks/Python.framework/Versions/3.9/lib/python3.9/site-packages (from kaggle) (2020.12.5)\n",
      "Requirement already satisfied: python-dateutil in /Library/Frameworks/Python.framework/Versions/3.9/lib/python3.9/site-packages (from kaggle) (2.8.1)\n",
      "Requirement already satisfied: requests in /Library/Frameworks/Python.framework/Versions/3.9/lib/python3.9/site-packages (from kaggle) (2.27.1)\n",
      "Requirement already satisfied: tqdm in /Library/Frameworks/Python.framework/Versions/3.9/lib/python3.9/site-packages (from kaggle) (4.60.0)\n",
      "Collecting python-slugify\n",
      "  Downloading python_slugify-6.1.1-py2.py3-none-any.whl (9.1 kB)\n",
      "Requirement already satisfied: urllib3 in /Library/Frameworks/Python.framework/Versions/3.9/lib/python3.9/site-packages (from kaggle) (1.26.4)\n",
      "Collecting text-unidecode>=1.3\n",
      "  Downloading text_unidecode-1.3-py2.py3-none-any.whl (78 kB)\n",
      "     |████████████████████████████████| 78 kB 3.1 MB/s             \n",
      "\u001b[?25hRequirement already satisfied: charset-normalizer~=2.0.0 in /Library/Frameworks/Python.framework/Versions/3.9/lib/python3.9/site-packages (from requests->kaggle) (2.0.11)\n",
      "Requirement already satisfied: idna<4,>=2.5 in /Library/Frameworks/Python.framework/Versions/3.9/lib/python3.9/site-packages (from requests->kaggle) (2.10)\n",
      "Building wheels for collected packages: kaggle\n",
      "  Building wheel for kaggle (setup.py) ... \u001b[?25ldone\n",
      "\u001b[?25h  Created wheel for kaggle: filename=kaggle-1.5.12-py3-none-any.whl size=73053 sha256=4450e330b2e775d29ab2be8fc4d9d79e293050e0cc0c6cf0718e731b5f3af1a4\n",
      "  Stored in directory: /Users/Liza/Library/Caches/pip/wheels/ac/b2/c3/fa4706d469b5879105991d1c8be9a3c2ef329ba9fe2ce5085e\n",
      "Successfully built kaggle\n",
      "Installing collected packages: text-unidecode, python-slugify, kaggle\n",
      "Successfully installed kaggle-1.5.12 python-slugify-6.1.1 text-unidecode-1.3\n",
      "\u001b[33mWARNING: You are using pip version 21.3.1; however, version 22.0.4 is available.\n",
      "You should consider upgrading via the '/Library/Frameworks/Python.framework/Versions/3.9/bin/python3.9 -m pip install --upgrade pip' command.\u001b[0m\n",
      "chmod: /Users/Liza/content/kaggle.json: No such file or directory\n",
      "Warning: Your Kaggle API key is readable by other users on this system! To fix this, you can run 'chmod 600 /Users/Liza/.kaggle/kaggle.json'\n",
      "Downloading movielens-20m-dataset.zip to /Users/Liza/Documents/vk-test\n",
      "100%|███████████████████████████████████████▉| 195M/195M [00:22<00:00, 11.5MB/s]\n",
      "100%|████████████████████████████████████████| 195M/195M [00:22<00:00, 9.07MB/s]\n"
     ]
    }
   ],
   "source": [
    "!pip install kaggle\n",
    "! mkdir ~/.kaggle\n",
    "! cp kaggle.json ~/.kaggle/\n",
    "! chmod 600 ~/content/kaggle.json\n",
    "!kaggle datasets download -d grouplens/movielens-20m-dataset\n"
   ]
  },
  {
   "cell_type": "code",
   "execution_count": 7,
   "metadata": {
    "colab": {
     "base_uri": "https://localhost:8080/"
    },
    "id": "QMSdZuZkoTdx",
    "outputId": "58359027-34ef-482b-9055-2945afc666d9"
   },
   "outputs": [
    {
     "name": "stdout",
     "output_type": "stream",
     "text": [
      "Archive:  movielens-20m-dataset.zip\n",
      "  inflating: genome_scores.csv       \n",
      "  inflating: genome_tags.csv         \n",
      "  inflating: link.csv                \n",
      "  inflating: movie.csv               \n",
      "  inflating: rating.csv              \n",
      "  inflating: tag.csv                 \n"
     ]
    }
   ],
   "source": [
    "!unzip movielens-20m-dataset.zip"
   ]
  },
  {
   "cell_type": "code",
   "execution_count": 3,
   "metadata": {
    "colab": {
     "base_uri": "https://localhost:8080/"
    },
    "id": "rGVDec87eMFq",
    "outputId": "df8e59e9-616c-4488-dcf3-19494434fa1a"
   },
   "outputs": [
    {
     "name": "stdout",
     "output_type": "stream",
     "text": [
      "Collecting surprise\n",
      "  Downloading surprise-0.1-py2.py3-none-any.whl (1.8 kB)\n",
      "Collecting scikit-surprise\n",
      "  Downloading scikit-surprise-1.1.1.tar.gz (11.8 MB)\n",
      "     |████████████████████████████████| 11.8 MB 1.8 MB/s            \n",
      "\u001b[?25h  Preparing metadata (setup.py) ... \u001b[?25ldone\n",
      "\u001b[?25hRequirement already satisfied: joblib>=0.11 in /Library/Frameworks/Python.framework/Versions/3.9/lib/python3.9/site-packages (from scikit-surprise->surprise) (1.0.1)\n",
      "Requirement already satisfied: numpy>=1.11.2 in /Library/Frameworks/Python.framework/Versions/3.9/lib/python3.9/site-packages (from scikit-surprise->surprise) (1.20.2)\n",
      "Requirement already satisfied: scipy>=1.0.0 in /Library/Frameworks/Python.framework/Versions/3.9/lib/python3.9/site-packages (from scikit-surprise->surprise) (1.7.1)\n",
      "Requirement already satisfied: six>=1.10.0 in /Library/Frameworks/Python.framework/Versions/3.9/lib/python3.9/site-packages (from scikit-surprise->surprise) (1.15.0)\n",
      "Building wheels for collected packages: scikit-surprise\n",
      "  Building wheel for scikit-surprise (setup.py) ... \u001b[?25ldone\n",
      "\u001b[?25h  Created wheel for scikit-surprise: filename=scikit_surprise-1.1.1-cp39-cp39-macosx_10_9_x86_64.whl size=770503 sha256=f6e9ee4eca8d8bab588d91d387c33ffb4cfa30bb0dc662edb7584af14c58cf19\n",
      "  Stored in directory: /Users/Liza/Library/Caches/pip/wheels/6b/10/c9/7f607c8cb522ef378844f41e63b30d7181a6495d2c1ae514e9\n",
      "Successfully built scikit-surprise\n",
      "Installing collected packages: scikit-surprise, surprise\n",
      "Successfully installed scikit-surprise-1.1.1 surprise-0.1\n",
      "\u001b[33mWARNING: You are using pip version 21.3.1; however, version 22.0.4 is available.\n",
      "You should consider upgrading via the '/Library/Frameworks/Python.framework/Versions/3.9/bin/python3.9 -m pip install --upgrade pip' command.\u001b[0m\n"
     ]
    }
   ],
   "source": [
    "!pip install surprise\n",
    "!pip install pyspark"
   ]
  },
  {
   "cell_type": "code",
   "execution_count": 315,
   "metadata": {},
   "outputs": [
    {
     "name": "stdout",
     "output_type": "stream",
     "text": [
      "Collecting pandas_profiling\n",
      "  Downloading pandas_profiling-3.1.0-py2.py3-none-any.whl (261 kB)\n",
      "     |████████████████████████████████| 261 kB 2.8 MB/s            \n",
      "\u001b[?25hRequirement already satisfied: PyYAML>=5.0.0 in /Library/Frameworks/Python.framework/Versions/3.9/lib/python3.9/site-packages (from pandas_profiling) (6.0)\n",
      "Collecting pydantic>=1.8.1\n",
      "  Downloading pydantic-1.9.0-cp39-cp39-macosx_10_9_x86_64.whl (2.9 MB)\n",
      "     |████████████████████████████████| 2.9 MB 7.8 MB/s            \n",
      "\u001b[?25hRequirement already satisfied: matplotlib>=3.2.0 in /Library/Frameworks/Python.framework/Versions/3.9/lib/python3.9/site-packages (from pandas_profiling) (3.4.1)\n",
      "Collecting tangled-up-in-unicode==0.1.0\n",
      "  Downloading tangled_up_in_unicode-0.1.0-py3-none-any.whl (3.1 MB)\n",
      "     |████████████████████████████████| 3.1 MB 5.9 MB/s            \n",
      "\u001b[?25hCollecting phik>=0.11.1\n",
      "  Downloading phik-0.12.2-cp39-cp39-macosx_10_13_x86_64.whl (694 kB)\n",
      "     |████████████████████████████████| 694 kB 6.8 MB/s            \n",
      "\u001b[?25hCollecting markupsafe~=2.0.1\n",
      "  Downloading MarkupSafe-2.0.1-cp39-cp39-macosx_10_9_x86_64.whl (13 kB)\n",
      "Collecting visions[type_image_path]==0.7.4\n",
      "  Downloading visions-0.7.4-py3-none-any.whl (102 kB)\n",
      "     |████████████████████████████████| 102 kB 3.9 MB/s            \n",
      "\u001b[?25hRequirement already satisfied: joblib~=1.0.1 in /Library/Frameworks/Python.framework/Versions/3.9/lib/python3.9/site-packages (from pandas_profiling) (1.0.1)\n",
      "Collecting htmlmin>=0.1.12\n",
      "  Downloading htmlmin-0.1.12.tar.gz (19 kB)\n",
      "  Preparing metadata (setup.py) ... \u001b[?25ldone\n",
      "\u001b[?25hRequirement already satisfied: scipy>=1.4.1 in /Library/Frameworks/Python.framework/Versions/3.9/lib/python3.9/site-packages (from pandas_profiling) (1.7.1)\n",
      "Collecting missingno>=0.4.2\n",
      "  Downloading missingno-0.5.1-py3-none-any.whl (8.7 kB)\n",
      "Requirement already satisfied: seaborn>=0.10.1 in /Library/Frameworks/Python.framework/Versions/3.9/lib/python3.9/site-packages (from pandas_profiling) (0.11.1)\n",
      "Requirement already satisfied: jinja2>=2.11.1 in /Library/Frameworks/Python.framework/Versions/3.9/lib/python3.9/site-packages (from pandas_profiling) (2.11.3)\n",
      "Collecting multimethod>=1.4\n",
      "  Downloading multimethod-1.7-py3-none-any.whl (9.5 kB)\n",
      "Requirement already satisfied: requests>=2.24.0 in /Library/Frameworks/Python.framework/Versions/3.9/lib/python3.9/site-packages (from pandas_profiling) (2.27.1)\n",
      "Requirement already satisfied: tqdm>=4.48.2 in /Library/Frameworks/Python.framework/Versions/3.9/lib/python3.9/site-packages (from pandas_profiling) (4.60.0)\n",
      "Requirement already satisfied: numpy>=1.16.0 in /Library/Frameworks/Python.framework/Versions/3.9/lib/python3.9/site-packages (from pandas_profiling) (1.20.2)\n",
      "Requirement already satisfied: pandas!=1.0.0,!=1.0.1,!=1.0.2,!=1.1.0,>=0.25.3 in /Library/Frameworks/Python.framework/Versions/3.9/lib/python3.9/site-packages (from pandas_profiling) (1.3.4)\n",
      "Collecting networkx>=2.4\n",
      "  Downloading networkx-2.7.1-py3-none-any.whl (2.0 MB)\n",
      "     |████████████████████████████████| 2.0 MB 4.2 MB/s            \n",
      "\u001b[?25hRequirement already satisfied: attrs>=19.3.0 in /Library/Frameworks/Python.framework/Versions/3.9/lib/python3.9/site-packages (from visions[type_image_path]==0.7.4->pandas_profiling) (20.3.0)\n",
      "Collecting imagehash\n",
      "  Downloading ImageHash-4.2.1.tar.gz (812 kB)\n",
      "     |████████████████████████████████| 812 kB 6.6 MB/s            \n",
      "\u001b[?25h  Preparing metadata (setup.py) ... \u001b[?25ldone\n",
      "\u001b[?25hRequirement already satisfied: Pillow in /Library/Frameworks/Python.framework/Versions/3.9/lib/python3.9/site-packages (from visions[type_image_path]==0.7.4->pandas_profiling) (8.2.0)\n",
      "Requirement already satisfied: python-dateutil>=2.7 in /Library/Frameworks/Python.framework/Versions/3.9/lib/python3.9/site-packages (from matplotlib>=3.2.0->pandas_profiling) (2.8.1)\n",
      "Requirement already satisfied: pyparsing>=2.2.1 in /Library/Frameworks/Python.framework/Versions/3.9/lib/python3.9/site-packages (from matplotlib>=3.2.0->pandas_profiling) (2.4.7)\n",
      "Requirement already satisfied: cycler>=0.10 in /Library/Frameworks/Python.framework/Versions/3.9/lib/python3.9/site-packages (from matplotlib>=3.2.0->pandas_profiling) (0.10.0)\n",
      "Requirement already satisfied: kiwisolver>=1.0.1 in /Library/Frameworks/Python.framework/Versions/3.9/lib/python3.9/site-packages (from matplotlib>=3.2.0->pandas_profiling) (1.3.1)\n",
      "Requirement already satisfied: pytz>=2017.3 in /Library/Frameworks/Python.framework/Versions/3.9/lib/python3.9/site-packages (from pandas!=1.0.0,!=1.0.1,!=1.0.2,!=1.1.0,>=0.25.3->pandas_profiling) (2021.1)\n",
      "Requirement already satisfied: typing-extensions>=3.7.4.3 in /Library/Frameworks/Python.framework/Versions/3.9/lib/python3.9/site-packages (from pydantic>=1.8.1->pandas_profiling) (3.10.0.2)\n",
      "Requirement already satisfied: idna<4,>=2.5 in /Library/Frameworks/Python.framework/Versions/3.9/lib/python3.9/site-packages (from requests>=2.24.0->pandas_profiling) (2.10)\n",
      "Requirement already satisfied: urllib3<1.27,>=1.21.1 in /Library/Frameworks/Python.framework/Versions/3.9/lib/python3.9/site-packages (from requests>=2.24.0->pandas_profiling) (1.26.4)\n",
      "Requirement already satisfied: charset-normalizer~=2.0.0 in /Library/Frameworks/Python.framework/Versions/3.9/lib/python3.9/site-packages (from requests>=2.24.0->pandas_profiling) (2.0.11)\n",
      "Requirement already satisfied: certifi>=2017.4.17 in /Library/Frameworks/Python.framework/Versions/3.9/lib/python3.9/site-packages (from requests>=2.24.0->pandas_profiling) (2020.12.5)\n",
      "Requirement already satisfied: six in /Library/Frameworks/Python.framework/Versions/3.9/lib/python3.9/site-packages (from cycler>=0.10->matplotlib>=3.2.0->pandas_profiling) (1.15.0)\n",
      "Collecting PyWavelets\n",
      "  Downloading PyWavelets-1.3.0-cp39-cp39-macosx_10_13_x86_64.whl (4.4 MB)\n",
      "     |████████████████████████████████| 4.4 MB 3.2 MB/s            \n",
      "\u001b[?25hBuilding wheels for collected packages: htmlmin, imagehash\n",
      "  Building wheel for htmlmin (setup.py) ... \u001b[?25ldone\n",
      "\u001b[?25h  Created wheel for htmlmin: filename=htmlmin-0.1.12-py3-none-any.whl size=27085 sha256=8c2aaf5be0beb258dceb6d27f9b5c9fa86bbd0c1bd4aee8f728c2e04d82819ae\n",
      "  Stored in directory: /Users/Liza/Library/Caches/pip/wheels/1d/05/04/c6d7d3b66539d9e659ac6dfe81e2d0fd4c1a8316cc5a403300\n",
      "  Building wheel for imagehash (setup.py) ... \u001b[?25ldone\n",
      "\u001b[?25h  Created wheel for imagehash: filename=ImageHash-4.2.1-py2.py3-none-any.whl size=295198 sha256=3cf4a6a025d58a76eb84e2362ff6bf5b3999fa4713f07d759c1768276116a3f0\n",
      "  Stored in directory: /Users/Liza/Library/Caches/pip/wheels/51/f9/a5/740af2fdb0ad1edf79aabdc41531be0b6f0b2e2be684c388cf\n",
      "Successfully built htmlmin imagehash\n",
      "Installing collected packages: tangled-up-in-unicode, PyWavelets, networkx, multimethod, visions, markupsafe, imagehash, pydantic, phik, missingno, htmlmin, pandas-profiling\n",
      "  Attempting uninstall: markupsafe\n",
      "    Found existing installation: MarkupSafe 1.1.1\n",
      "    Uninstalling MarkupSafe-1.1.1:\n",
      "      Successfully uninstalled MarkupSafe-1.1.1\n",
      "Successfully installed PyWavelets-1.3.0 htmlmin-0.1.12 imagehash-4.2.1 markupsafe-2.0.1 missingno-0.5.1 multimethod-1.7 networkx-2.7.1 pandas-profiling-3.1.0 phik-0.12.2 pydantic-1.9.0 tangled-up-in-unicode-0.1.0 visions-0.7.4\n",
      "\u001b[33mWARNING: You are using pip version 21.3.1; however, version 22.0.4 is available.\n",
      "You should consider upgrading via the '/Library/Frameworks/Python.framework/Versions/3.9/bin/python3.9 -m pip install --upgrade pip' command.\u001b[0m\n"
     ]
    }
   ],
   "source": [
    "!pip install pandas_profiling"
   ]
  },
  {
   "cell_type": "code",
   "execution_count": 373,
   "metadata": {},
   "outputs": [
    {
     "name": "stdout",
     "output_type": "stream",
     "text": [
      "Collecting lightfm\n",
      "  Downloading lightfm-1.16.tar.gz (310 kB)\n",
      "     |████████████████████████████████| 310 kB 2.8 MB/s            \n",
      "\u001b[?25h  Preparing metadata (setup.py) ... \u001b[?25ldone\n",
      "\u001b[?25hRequirement already satisfied: numpy in /Library/Frameworks/Python.framework/Versions/3.9/lib/python3.9/site-packages (from lightfm) (1.20.2)\n",
      "Requirement already satisfied: scipy>=0.17.0 in /Library/Frameworks/Python.framework/Versions/3.9/lib/python3.9/site-packages (from lightfm) (1.7.1)\n",
      "Requirement already satisfied: requests in /Library/Frameworks/Python.framework/Versions/3.9/lib/python3.9/site-packages (from lightfm) (2.27.1)\n",
      "Requirement already satisfied: scikit-learn in /Library/Frameworks/Python.framework/Versions/3.9/lib/python3.9/site-packages (from lightfm) (0.24.1)\n",
      "Requirement already satisfied: charset-normalizer~=2.0.0 in /Library/Frameworks/Python.framework/Versions/3.9/lib/python3.9/site-packages (from requests->lightfm) (2.0.11)\n",
      "Requirement already satisfied: urllib3<1.27,>=1.21.1 in /Library/Frameworks/Python.framework/Versions/3.9/lib/python3.9/site-packages (from requests->lightfm) (1.26.4)\n",
      "Requirement already satisfied: idna<4,>=2.5 in /Library/Frameworks/Python.framework/Versions/3.9/lib/python3.9/site-packages (from requests->lightfm) (2.10)\n",
      "Requirement already satisfied: certifi>=2017.4.17 in /Library/Frameworks/Python.framework/Versions/3.9/lib/python3.9/site-packages (from requests->lightfm) (2020.12.5)\n",
      "Requirement already satisfied: threadpoolctl>=2.0.0 in /Library/Frameworks/Python.framework/Versions/3.9/lib/python3.9/site-packages (from scikit-learn->lightfm) (2.1.0)\n",
      "Requirement already satisfied: joblib>=0.11 in /Library/Frameworks/Python.framework/Versions/3.9/lib/python3.9/site-packages (from scikit-learn->lightfm) (1.0.1)\n",
      "Building wheels for collected packages: lightfm\n",
      "  Building wheel for lightfm (setup.py) ... \u001b[?25ldone\n",
      "\u001b[?25h  Created wheel for lightfm: filename=lightfm-1.16-cp39-cp39-macosx_10_9_x86_64.whl size=448364 sha256=01ca1cd87debf090d4e32edf719556e6505101fbd40d3b7786dfe918056be668\n",
      "  Stored in directory: /Users/Liza/Library/Caches/pip/wheels/d7/75/52/e42e5f9cd86d4902a352aff4dadde75ec041af713ffcf3ed05\n",
      "Successfully built lightfm\n",
      "Installing collected packages: lightfm\n",
      "Successfully installed lightfm-1.16\n",
      "\u001b[33mWARNING: You are using pip version 21.3.1; however, version 22.0.4 is available.\n",
      "You should consider upgrading via the '/Library/Frameworks/Python.framework/Versions/3.9/bin/python3.9 -m pip install --upgrade pip' command.\u001b[0m\n"
     ]
    }
   ],
   "source": [
    "!pip install lightfm"
   ]
  },
  {
   "cell_type": "code",
   "execution_count": 908,
   "metadata": {
    "id": "DgHw6tWPd2pU"
   },
   "outputs": [],
   "source": [
    "import pandas as pd\n",
    "import numpy as np\n",
    "import random\n",
    "import seaborn as sns\n",
    "from tqdm import tqdm\n",
    "import pandas_profiling\n",
    "from lightfm import LightFM\n",
    "from lightfm import evaluation\n",
    "from sklearn.metrics import ndcg_score\n",
    "from lightfm import cross_validation\n",
    "import scipy\n",
    "import matplotlib.pyplot as plt\n",
    "from surprise import Reader, Dataset, SVD\n",
    "from sklearn.metrics import mean_squared_error\n",
    "from surprise.model_selection import split, cross_validate\n",
    "from pyspark.sql import SparkSession\n",
    "from pyspark.sql import functions as fn\n",
    "from lightfm.data import Dataset\n",
    "from pyspark.sql.functions import col\n",
    "from pyspark.ml.evaluation import RegressionEvaluator\n",
    "from pyspark.ml.recommendation import ALS\n",
    "from pyspark.ml.tuning import ParamGridBuilder, CrossValidator\n",
    "\n",
    "random.seed(42)"
   ]
  },
  {
   "cell_type": "code",
   "execution_count": 9,
   "metadata": {
    "id": "8U4BatXKd98a"
   },
   "outputs": [],
   "source": [
    "movie = pd.read_csv('movie.csv')\n",
    "rating = pd.read_csv('rating.csv')\n",
    "tag = pd.read_csv('tag.csv')\n",
    "genome_tags = pd.read_csv('genome_tags.csv')\n",
    "genome_scores = pd.read_csv('genome_scores.csv')\n",
    "link = pd.read_csv('link.csv')\n"
   ]
  },
  {
   "cell_type": "markdown",
   "metadata": {
    "id": "aBsgqvOEQR92"
   },
   "source": [
    "# Анализ данных"
   ]
  },
  {
   "cell_type": "code",
   "execution_count": 10,
   "metadata": {
    "colab": {
     "base_uri": "https://localhost:8080/",
     "height": 204
    },
    "id": "nkCRaP3feeb-",
    "outputId": "75d37719-8f6b-44ba-b401-f5d1545b2fbb"
   },
   "outputs": [
    {
     "data": {
      "text/html": [
       "<div>\n",
       "<style scoped>\n",
       "    .dataframe tbody tr th:only-of-type {\n",
       "        vertical-align: middle;\n",
       "    }\n",
       "\n",
       "    .dataframe tbody tr th {\n",
       "        vertical-align: top;\n",
       "    }\n",
       "\n",
       "    .dataframe thead th {\n",
       "        text-align: right;\n",
       "    }\n",
       "</style>\n",
       "<table border=\"1\" class=\"dataframe\">\n",
       "  <thead>\n",
       "    <tr style=\"text-align: right;\">\n",
       "      <th></th>\n",
       "      <th>movieId</th>\n",
       "      <th>title</th>\n",
       "      <th>genres</th>\n",
       "    </tr>\n",
       "  </thead>\n",
       "  <tbody>\n",
       "    <tr>\n",
       "      <th>0</th>\n",
       "      <td>1</td>\n",
       "      <td>Toy Story (1995)</td>\n",
       "      <td>Adventure|Animation|Children|Comedy|Fantasy</td>\n",
       "    </tr>\n",
       "    <tr>\n",
       "      <th>1</th>\n",
       "      <td>2</td>\n",
       "      <td>Jumanji (1995)</td>\n",
       "      <td>Adventure|Children|Fantasy</td>\n",
       "    </tr>\n",
       "    <tr>\n",
       "      <th>2</th>\n",
       "      <td>3</td>\n",
       "      <td>Grumpier Old Men (1995)</td>\n",
       "      <td>Comedy|Romance</td>\n",
       "    </tr>\n",
       "    <tr>\n",
       "      <th>3</th>\n",
       "      <td>4</td>\n",
       "      <td>Waiting to Exhale (1995)</td>\n",
       "      <td>Comedy|Drama|Romance</td>\n",
       "    </tr>\n",
       "    <tr>\n",
       "      <th>4</th>\n",
       "      <td>5</td>\n",
       "      <td>Father of the Bride Part II (1995)</td>\n",
       "      <td>Comedy</td>\n",
       "    </tr>\n",
       "  </tbody>\n",
       "</table>\n",
       "</div>"
      ],
      "text/plain": [
       "   movieId                               title  \\\n",
       "0        1                    Toy Story (1995)   \n",
       "1        2                      Jumanji (1995)   \n",
       "2        3             Grumpier Old Men (1995)   \n",
       "3        4            Waiting to Exhale (1995)   \n",
       "4        5  Father of the Bride Part II (1995)   \n",
       "\n",
       "                                        genres  \n",
       "0  Adventure|Animation|Children|Comedy|Fantasy  \n",
       "1                   Adventure|Children|Fantasy  \n",
       "2                               Comedy|Romance  \n",
       "3                         Comedy|Drama|Romance  \n",
       "4                                       Comedy  "
      ]
     },
     "execution_count": 10,
     "metadata": {},
     "output_type": "execute_result"
    }
   ],
   "source": [
    "movie.head()"
   ]
  },
  {
   "cell_type": "code",
   "execution_count": 11,
   "metadata": {
    "colab": {
     "base_uri": "https://localhost:8080/",
     "height": 204
    },
    "id": "J4zQj99Zelwf",
    "outputId": "4af5ed3c-377e-4890-e488-5841c5e8f29b"
   },
   "outputs": [
    {
     "data": {
      "text/html": [
       "<div>\n",
       "<style scoped>\n",
       "    .dataframe tbody tr th:only-of-type {\n",
       "        vertical-align: middle;\n",
       "    }\n",
       "\n",
       "    .dataframe tbody tr th {\n",
       "        vertical-align: top;\n",
       "    }\n",
       "\n",
       "    .dataframe thead th {\n",
       "        text-align: right;\n",
       "    }\n",
       "</style>\n",
       "<table border=\"1\" class=\"dataframe\">\n",
       "  <thead>\n",
       "    <tr style=\"text-align: right;\">\n",
       "      <th></th>\n",
       "      <th>userId</th>\n",
       "      <th>movieId</th>\n",
       "      <th>rating</th>\n",
       "      <th>timestamp</th>\n",
       "    </tr>\n",
       "  </thead>\n",
       "  <tbody>\n",
       "    <tr>\n",
       "      <th>0</th>\n",
       "      <td>1</td>\n",
       "      <td>2</td>\n",
       "      <td>3.5</td>\n",
       "      <td>2005-04-02 23:53:47</td>\n",
       "    </tr>\n",
       "    <tr>\n",
       "      <th>1</th>\n",
       "      <td>1</td>\n",
       "      <td>29</td>\n",
       "      <td>3.5</td>\n",
       "      <td>2005-04-02 23:31:16</td>\n",
       "    </tr>\n",
       "    <tr>\n",
       "      <th>2</th>\n",
       "      <td>1</td>\n",
       "      <td>32</td>\n",
       "      <td>3.5</td>\n",
       "      <td>2005-04-02 23:33:39</td>\n",
       "    </tr>\n",
       "    <tr>\n",
       "      <th>3</th>\n",
       "      <td>1</td>\n",
       "      <td>47</td>\n",
       "      <td>3.5</td>\n",
       "      <td>2005-04-02 23:32:07</td>\n",
       "    </tr>\n",
       "    <tr>\n",
       "      <th>4</th>\n",
       "      <td>1</td>\n",
       "      <td>50</td>\n",
       "      <td>3.5</td>\n",
       "      <td>2005-04-02 23:29:40</td>\n",
       "    </tr>\n",
       "  </tbody>\n",
       "</table>\n",
       "</div>"
      ],
      "text/plain": [
       "   userId  movieId  rating            timestamp\n",
       "0       1        2     3.5  2005-04-02 23:53:47\n",
       "1       1       29     3.5  2005-04-02 23:31:16\n",
       "2       1       32     3.5  2005-04-02 23:33:39\n",
       "3       1       47     3.5  2005-04-02 23:32:07\n",
       "4       1       50     3.5  2005-04-02 23:29:40"
      ]
     },
     "execution_count": 11,
     "metadata": {},
     "output_type": "execute_result"
    }
   ],
   "source": [
    "rating.head()"
   ]
  },
  {
   "cell_type": "code",
   "execution_count": 12,
   "metadata": {
    "colab": {
     "base_uri": "https://localhost:8080/",
     "height": 204
    },
    "id": "DuGEiM1teocl",
    "outputId": "73e9d2a8-51cf-4abc-cb2a-e8254bf90816"
   },
   "outputs": [
    {
     "data": {
      "text/html": [
       "<div>\n",
       "<style scoped>\n",
       "    .dataframe tbody tr th:only-of-type {\n",
       "        vertical-align: middle;\n",
       "    }\n",
       "\n",
       "    .dataframe tbody tr th {\n",
       "        vertical-align: top;\n",
       "    }\n",
       "\n",
       "    .dataframe thead th {\n",
       "        text-align: right;\n",
       "    }\n",
       "</style>\n",
       "<table border=\"1\" class=\"dataframe\">\n",
       "  <thead>\n",
       "    <tr style=\"text-align: right;\">\n",
       "      <th></th>\n",
       "      <th>userId</th>\n",
       "      <th>movieId</th>\n",
       "      <th>tag</th>\n",
       "      <th>timestamp</th>\n",
       "    </tr>\n",
       "  </thead>\n",
       "  <tbody>\n",
       "    <tr>\n",
       "      <th>0</th>\n",
       "      <td>18</td>\n",
       "      <td>4141</td>\n",
       "      <td>Mark Waters</td>\n",
       "      <td>2009-04-24 18:19:40</td>\n",
       "    </tr>\n",
       "    <tr>\n",
       "      <th>1</th>\n",
       "      <td>65</td>\n",
       "      <td>208</td>\n",
       "      <td>dark hero</td>\n",
       "      <td>2013-05-10 01:41:18</td>\n",
       "    </tr>\n",
       "    <tr>\n",
       "      <th>2</th>\n",
       "      <td>65</td>\n",
       "      <td>353</td>\n",
       "      <td>dark hero</td>\n",
       "      <td>2013-05-10 01:41:19</td>\n",
       "    </tr>\n",
       "    <tr>\n",
       "      <th>3</th>\n",
       "      <td>65</td>\n",
       "      <td>521</td>\n",
       "      <td>noir thriller</td>\n",
       "      <td>2013-05-10 01:39:43</td>\n",
       "    </tr>\n",
       "    <tr>\n",
       "      <th>4</th>\n",
       "      <td>65</td>\n",
       "      <td>592</td>\n",
       "      <td>dark hero</td>\n",
       "      <td>2013-05-10 01:41:18</td>\n",
       "    </tr>\n",
       "  </tbody>\n",
       "</table>\n",
       "</div>"
      ],
      "text/plain": [
       "   userId  movieId            tag            timestamp\n",
       "0      18     4141    Mark Waters  2009-04-24 18:19:40\n",
       "1      65      208      dark hero  2013-05-10 01:41:18\n",
       "2      65      353      dark hero  2013-05-10 01:41:19\n",
       "3      65      521  noir thriller  2013-05-10 01:39:43\n",
       "4      65      592      dark hero  2013-05-10 01:41:18"
      ]
     },
     "execution_count": 12,
     "metadata": {},
     "output_type": "execute_result"
    }
   ],
   "source": [
    "tag.head()"
   ]
  },
  {
   "cell_type": "code",
   "execution_count": 13,
   "metadata": {
    "colab": {
     "base_uri": "https://localhost:8080/",
     "height": 204
    },
    "id": "c5xVJ_v9ep5U",
    "outputId": "edf69382-904a-4e94-da12-550590daf07a"
   },
   "outputs": [
    {
     "data": {
      "text/html": [
       "<div>\n",
       "<style scoped>\n",
       "    .dataframe tbody tr th:only-of-type {\n",
       "        vertical-align: middle;\n",
       "    }\n",
       "\n",
       "    .dataframe tbody tr th {\n",
       "        vertical-align: top;\n",
       "    }\n",
       "\n",
       "    .dataframe thead th {\n",
       "        text-align: right;\n",
       "    }\n",
       "</style>\n",
       "<table border=\"1\" class=\"dataframe\">\n",
       "  <thead>\n",
       "    <tr style=\"text-align: right;\">\n",
       "      <th></th>\n",
       "      <th>tagId</th>\n",
       "      <th>tag</th>\n",
       "    </tr>\n",
       "  </thead>\n",
       "  <tbody>\n",
       "    <tr>\n",
       "      <th>0</th>\n",
       "      <td>1</td>\n",
       "      <td>007</td>\n",
       "    </tr>\n",
       "    <tr>\n",
       "      <th>1</th>\n",
       "      <td>2</td>\n",
       "      <td>007 (series)</td>\n",
       "    </tr>\n",
       "    <tr>\n",
       "      <th>2</th>\n",
       "      <td>3</td>\n",
       "      <td>18th century</td>\n",
       "    </tr>\n",
       "    <tr>\n",
       "      <th>3</th>\n",
       "      <td>4</td>\n",
       "      <td>1920s</td>\n",
       "    </tr>\n",
       "    <tr>\n",
       "      <th>4</th>\n",
       "      <td>5</td>\n",
       "      <td>1930s</td>\n",
       "    </tr>\n",
       "  </tbody>\n",
       "</table>\n",
       "</div>"
      ],
      "text/plain": [
       "   tagId           tag\n",
       "0      1           007\n",
       "1      2  007 (series)\n",
       "2      3  18th century\n",
       "3      4         1920s\n",
       "4      5         1930s"
      ]
     },
     "execution_count": 13,
     "metadata": {},
     "output_type": "execute_result"
    }
   ],
   "source": [
    "genome_tags.head()"
   ]
  },
  {
   "cell_type": "code",
   "execution_count": 14,
   "metadata": {
    "colab": {
     "base_uri": "https://localhost:8080/",
     "height": 204
    },
    "id": "pgY8b3Dlesof",
    "outputId": "d47f2949-0be3-472a-eba8-6101bda2e551"
   },
   "outputs": [
    {
     "data": {
      "text/html": [
       "<div>\n",
       "<style scoped>\n",
       "    .dataframe tbody tr th:only-of-type {\n",
       "        vertical-align: middle;\n",
       "    }\n",
       "\n",
       "    .dataframe tbody tr th {\n",
       "        vertical-align: top;\n",
       "    }\n",
       "\n",
       "    .dataframe thead th {\n",
       "        text-align: right;\n",
       "    }\n",
       "</style>\n",
       "<table border=\"1\" class=\"dataframe\">\n",
       "  <thead>\n",
       "    <tr style=\"text-align: right;\">\n",
       "      <th></th>\n",
       "      <th>movieId</th>\n",
       "      <th>tagId</th>\n",
       "      <th>relevance</th>\n",
       "    </tr>\n",
       "  </thead>\n",
       "  <tbody>\n",
       "    <tr>\n",
       "      <th>0</th>\n",
       "      <td>1</td>\n",
       "      <td>1</td>\n",
       "      <td>0.02500</td>\n",
       "    </tr>\n",
       "    <tr>\n",
       "      <th>1</th>\n",
       "      <td>1</td>\n",
       "      <td>2</td>\n",
       "      <td>0.02500</td>\n",
       "    </tr>\n",
       "    <tr>\n",
       "      <th>2</th>\n",
       "      <td>1</td>\n",
       "      <td>3</td>\n",
       "      <td>0.05775</td>\n",
       "    </tr>\n",
       "    <tr>\n",
       "      <th>3</th>\n",
       "      <td>1</td>\n",
       "      <td>4</td>\n",
       "      <td>0.09675</td>\n",
       "    </tr>\n",
       "    <tr>\n",
       "      <th>4</th>\n",
       "      <td>1</td>\n",
       "      <td>5</td>\n",
       "      <td>0.14675</td>\n",
       "    </tr>\n",
       "  </tbody>\n",
       "</table>\n",
       "</div>"
      ],
      "text/plain": [
       "   movieId  tagId  relevance\n",
       "0        1      1    0.02500\n",
       "1        1      2    0.02500\n",
       "2        1      3    0.05775\n",
       "3        1      4    0.09675\n",
       "4        1      5    0.14675"
      ]
     },
     "execution_count": 14,
     "metadata": {},
     "output_type": "execute_result"
    }
   ],
   "source": [
    "genome_scores.head()"
   ]
  },
  {
   "cell_type": "code",
   "execution_count": 15,
   "metadata": {
    "colab": {
     "base_uri": "https://localhost:8080/",
     "height": 204
    },
    "id": "xzeJuVv8ewNr",
    "outputId": "80522456-0f86-424f-a80e-46568b973be3"
   },
   "outputs": [
    {
     "data": {
      "text/html": [
       "<div>\n",
       "<style scoped>\n",
       "    .dataframe tbody tr th:only-of-type {\n",
       "        vertical-align: middle;\n",
       "    }\n",
       "\n",
       "    .dataframe tbody tr th {\n",
       "        vertical-align: top;\n",
       "    }\n",
       "\n",
       "    .dataframe thead th {\n",
       "        text-align: right;\n",
       "    }\n",
       "</style>\n",
       "<table border=\"1\" class=\"dataframe\">\n",
       "  <thead>\n",
       "    <tr style=\"text-align: right;\">\n",
       "      <th></th>\n",
       "      <th>movieId</th>\n",
       "      <th>imdbId</th>\n",
       "      <th>tmdbId</th>\n",
       "    </tr>\n",
       "  </thead>\n",
       "  <tbody>\n",
       "    <tr>\n",
       "      <th>0</th>\n",
       "      <td>1</td>\n",
       "      <td>114709</td>\n",
       "      <td>862.0</td>\n",
       "    </tr>\n",
       "    <tr>\n",
       "      <th>1</th>\n",
       "      <td>2</td>\n",
       "      <td>113497</td>\n",
       "      <td>8844.0</td>\n",
       "    </tr>\n",
       "    <tr>\n",
       "      <th>2</th>\n",
       "      <td>3</td>\n",
       "      <td>113228</td>\n",
       "      <td>15602.0</td>\n",
       "    </tr>\n",
       "    <tr>\n",
       "      <th>3</th>\n",
       "      <td>4</td>\n",
       "      <td>114885</td>\n",
       "      <td>31357.0</td>\n",
       "    </tr>\n",
       "    <tr>\n",
       "      <th>4</th>\n",
       "      <td>5</td>\n",
       "      <td>113041</td>\n",
       "      <td>11862.0</td>\n",
       "    </tr>\n",
       "  </tbody>\n",
       "</table>\n",
       "</div>"
      ],
      "text/plain": [
       "   movieId  imdbId   tmdbId\n",
       "0        1  114709    862.0\n",
       "1        2  113497   8844.0\n",
       "2        3  113228  15602.0\n",
       "3        4  114885  31357.0\n",
       "4        5  113041  11862.0"
      ]
     },
     "execution_count": 15,
     "metadata": {},
     "output_type": "execute_result"
    }
   ],
   "source": [
    "link.head()"
   ]
  },
  {
   "cell_type": "code",
   "execution_count": 16,
   "metadata": {
    "colab": {
     "base_uri": "https://localhost:8080/"
    },
    "id": "Gxo_rV6zV0y0",
    "outputId": "d471f088-c751-4ad5-e5df-6c059bdfecf8"
   },
   "outputs": [
    {
     "data": {
      "text/plain": [
       "array(['Adventure', 'Comedy', 'Action', 'Drama', 'Crime', 'Children',\n",
       "       'Mystery', 'Documentary', 'Animation', 'Thriller', 'Horror',\n",
       "       'Fantasy', 'Western', 'Film-Noir', 'Romance', 'War', 'Sci-Fi',\n",
       "       'Musical', 'IMAX', '(no genres listed)'], dtype=object)"
      ]
     },
     "execution_count": 16,
     "metadata": {},
     "output_type": "execute_result"
    }
   ],
   "source": [
    "genres = movie['genres'].str.split('|', expand=True)\n",
    "\n",
    "# достаточно рассмотреть одну колонку, чтобы узнать все жанры\n",
    "genres[0].unique()"
   ]
  },
  {
   "cell_type": "code",
   "execution_count": 17,
   "metadata": {
    "id": "TH4zvb9lbUpv"
   },
   "outputs": [],
   "source": [
    "# колонки в общую таблицу\n",
    "for mov in genres[0].unique():\n",
    "  movie[mov] = 0\n",
    "\n",
    "# словарь с индексами для удобства\n",
    "genres_dict = {}\n",
    "for g, genre in enumerate(genres[0].unique()):\n",
    "  genres_dict[genre] = g"
   ]
  },
  {
   "cell_type": "code",
   "execution_count": 18,
   "metadata": {
    "id": "LNoVGtlWaOm8"
   },
   "outputs": [],
   "source": [
    "result = np.array([[0] * len(genres[0].unique())] * movie.shape[0])\n",
    "# сделаем бинарную таблицу с жанрами по фильмам\n",
    "for id in range(movie.shape[0]):\n",
    "  g = movie['genres'][id].split('|')\n",
    "  for genre in g:\n",
    "    result[id][genres_dict[genre]] = 1"
   ]
  },
  {
   "cell_type": "code",
   "execution_count": 19,
   "metadata": {
    "colab": {
     "base_uri": "https://localhost:8080/",
     "height": 484
    },
    "id": "rleeZwKaoO6D",
    "outputId": "d7cf13bd-9048-4788-ed31-9245a2644287"
   },
   "outputs": [
    {
     "data": {
      "text/html": [
       "<div>\n",
       "<style scoped>\n",
       "    .dataframe tbody tr th:only-of-type {\n",
       "        vertical-align: middle;\n",
       "    }\n",
       "\n",
       "    .dataframe tbody tr th {\n",
       "        vertical-align: top;\n",
       "    }\n",
       "\n",
       "    .dataframe thead th {\n",
       "        text-align: right;\n",
       "    }\n",
       "</style>\n",
       "<table border=\"1\" class=\"dataframe\">\n",
       "  <thead>\n",
       "    <tr style=\"text-align: right;\">\n",
       "      <th></th>\n",
       "      <th>movieId</th>\n",
       "      <th>title</th>\n",
       "      <th>genres</th>\n",
       "      <th>Adventure</th>\n",
       "      <th>Comedy</th>\n",
       "      <th>Action</th>\n",
       "      <th>Drama</th>\n",
       "      <th>Crime</th>\n",
       "      <th>Children</th>\n",
       "      <th>Mystery</th>\n",
       "      <th>...</th>\n",
       "      <th>Horror</th>\n",
       "      <th>Fantasy</th>\n",
       "      <th>Western</th>\n",
       "      <th>Film-Noir</th>\n",
       "      <th>Romance</th>\n",
       "      <th>War</th>\n",
       "      <th>Sci-Fi</th>\n",
       "      <th>Musical</th>\n",
       "      <th>IMAX</th>\n",
       "      <th>(no genres listed)</th>\n",
       "    </tr>\n",
       "  </thead>\n",
       "  <tbody>\n",
       "    <tr>\n",
       "      <th>0</th>\n",
       "      <td>1</td>\n",
       "      <td>Toy Story (1995)</td>\n",
       "      <td>Adventure|Animation|Children|Comedy|Fantasy</td>\n",
       "      <td>1</td>\n",
       "      <td>1</td>\n",
       "      <td>0</td>\n",
       "      <td>0</td>\n",
       "      <td>0</td>\n",
       "      <td>1</td>\n",
       "      <td>0</td>\n",
       "      <td>...</td>\n",
       "      <td>0</td>\n",
       "      <td>1</td>\n",
       "      <td>0</td>\n",
       "      <td>0</td>\n",
       "      <td>0</td>\n",
       "      <td>0</td>\n",
       "      <td>0</td>\n",
       "      <td>0</td>\n",
       "      <td>0</td>\n",
       "      <td>0</td>\n",
       "    </tr>\n",
       "    <tr>\n",
       "      <th>1</th>\n",
       "      <td>2</td>\n",
       "      <td>Jumanji (1995)</td>\n",
       "      <td>Adventure|Children|Fantasy</td>\n",
       "      <td>1</td>\n",
       "      <td>0</td>\n",
       "      <td>0</td>\n",
       "      <td>0</td>\n",
       "      <td>0</td>\n",
       "      <td>1</td>\n",
       "      <td>0</td>\n",
       "      <td>...</td>\n",
       "      <td>0</td>\n",
       "      <td>1</td>\n",
       "      <td>0</td>\n",
       "      <td>0</td>\n",
       "      <td>0</td>\n",
       "      <td>0</td>\n",
       "      <td>0</td>\n",
       "      <td>0</td>\n",
       "      <td>0</td>\n",
       "      <td>0</td>\n",
       "    </tr>\n",
       "    <tr>\n",
       "      <th>2</th>\n",
       "      <td>3</td>\n",
       "      <td>Grumpier Old Men (1995)</td>\n",
       "      <td>Comedy|Romance</td>\n",
       "      <td>0</td>\n",
       "      <td>1</td>\n",
       "      <td>0</td>\n",
       "      <td>0</td>\n",
       "      <td>0</td>\n",
       "      <td>0</td>\n",
       "      <td>0</td>\n",
       "      <td>...</td>\n",
       "      <td>0</td>\n",
       "      <td>0</td>\n",
       "      <td>0</td>\n",
       "      <td>0</td>\n",
       "      <td>1</td>\n",
       "      <td>0</td>\n",
       "      <td>0</td>\n",
       "      <td>0</td>\n",
       "      <td>0</td>\n",
       "      <td>0</td>\n",
       "    </tr>\n",
       "    <tr>\n",
       "      <th>3</th>\n",
       "      <td>4</td>\n",
       "      <td>Waiting to Exhale (1995)</td>\n",
       "      <td>Comedy|Drama|Romance</td>\n",
       "      <td>0</td>\n",
       "      <td>1</td>\n",
       "      <td>0</td>\n",
       "      <td>1</td>\n",
       "      <td>0</td>\n",
       "      <td>0</td>\n",
       "      <td>0</td>\n",
       "      <td>...</td>\n",
       "      <td>0</td>\n",
       "      <td>0</td>\n",
       "      <td>0</td>\n",
       "      <td>0</td>\n",
       "      <td>1</td>\n",
       "      <td>0</td>\n",
       "      <td>0</td>\n",
       "      <td>0</td>\n",
       "      <td>0</td>\n",
       "      <td>0</td>\n",
       "    </tr>\n",
       "    <tr>\n",
       "      <th>4</th>\n",
       "      <td>5</td>\n",
       "      <td>Father of the Bride Part II (1995)</td>\n",
       "      <td>Comedy</td>\n",
       "      <td>0</td>\n",
       "      <td>1</td>\n",
       "      <td>0</td>\n",
       "      <td>0</td>\n",
       "      <td>0</td>\n",
       "      <td>0</td>\n",
       "      <td>0</td>\n",
       "      <td>...</td>\n",
       "      <td>0</td>\n",
       "      <td>0</td>\n",
       "      <td>0</td>\n",
       "      <td>0</td>\n",
       "      <td>0</td>\n",
       "      <td>0</td>\n",
       "      <td>0</td>\n",
       "      <td>0</td>\n",
       "      <td>0</td>\n",
       "      <td>0</td>\n",
       "    </tr>\n",
       "  </tbody>\n",
       "</table>\n",
       "<p>5 rows × 23 columns</p>\n",
       "</div>"
      ],
      "text/plain": [
       "   movieId                               title  \\\n",
       "0        1                    Toy Story (1995)   \n",
       "1        2                      Jumanji (1995)   \n",
       "2        3             Grumpier Old Men (1995)   \n",
       "3        4            Waiting to Exhale (1995)   \n",
       "4        5  Father of the Bride Part II (1995)   \n",
       "\n",
       "                                        genres  Adventure  Comedy  Action  \\\n",
       "0  Adventure|Animation|Children|Comedy|Fantasy          1       1       0   \n",
       "1                   Adventure|Children|Fantasy          1       0       0   \n",
       "2                               Comedy|Romance          0       1       0   \n",
       "3                         Comedy|Drama|Romance          0       1       0   \n",
       "4                                       Comedy          0       1       0   \n",
       "\n",
       "   Drama  Crime  Children  Mystery  ...  Horror  Fantasy  Western  Film-Noir  \\\n",
       "0      0      0         1        0  ...       0        1        0          0   \n",
       "1      0      0         1        0  ...       0        1        0          0   \n",
       "2      0      0         0        0  ...       0        0        0          0   \n",
       "3      1      0         0        0  ...       0        0        0          0   \n",
       "4      0      0         0        0  ...       0        0        0          0   \n",
       "\n",
       "   Romance  War  Sci-Fi  Musical  IMAX  (no genres listed)  \n",
       "0        0    0       0        0     0                   0  \n",
       "1        0    0       0        0     0                   0  \n",
       "2        1    0       0        0     0                   0  \n",
       "3        1    0       0        0     0                   0  \n",
       "4        0    0       0        0     0                   0  \n",
       "\n",
       "[5 rows x 23 columns]"
      ]
     },
     "execution_count": 19,
     "metadata": {},
     "output_type": "execute_result"
    }
   ],
   "source": [
    "# добавим получившуюся таблицу с общую\n",
    "movie[genres[0].unique()] = result\n",
    "movie.head()"
   ]
  },
  {
   "cell_type": "code",
   "execution_count": 20,
   "metadata": {
    "colab": {
     "base_uri": "https://localhost:8080/"
    },
    "id": "hU3LvcyvpNzc",
    "outputId": "b1b88bd7-9dd1-4c44-d24e-ee201657fc45"
   },
   "outputs": [
    {
     "name": "stdout",
     "output_type": "stream",
     "text": [
      "Adventure\n",
      "0    24949\n",
      "1     2329\n",
      "dtype: int64 \n",
      "\n",
      "Comedy\n",
      "0    18904\n",
      "1     8374\n",
      "dtype: int64 \n",
      "\n",
      "Action\n",
      "0    23758\n",
      "1     3520\n",
      "dtype: int64 \n",
      "\n",
      "Drama\n",
      "0    13934\n",
      "1    13344\n",
      "dtype: int64 \n",
      "\n",
      "Crime\n",
      "0    24339\n",
      "1     2939\n",
      "dtype: int64 \n",
      "\n",
      "Children\n",
      "0    26139\n",
      "1     1139\n",
      "dtype: int64 \n",
      "\n",
      "Mystery\n",
      "0    25764\n",
      "1     1514\n",
      "dtype: int64 \n",
      "\n",
      "Documentary\n",
      "0    24807\n",
      "1     2471\n",
      "dtype: int64 \n",
      "\n",
      "Animation\n",
      "0    26251\n",
      "1     1027\n",
      "dtype: int64 \n",
      "\n",
      "Thriller\n",
      "0    23100\n",
      "1     4178\n",
      "dtype: int64 \n",
      "\n",
      "Horror\n",
      "0    24667\n",
      "1     2611\n",
      "dtype: int64 \n",
      "\n",
      "Fantasy\n",
      "0    25866\n",
      "1     1412\n",
      "dtype: int64 \n",
      "\n",
      "Western\n",
      "0    26602\n",
      "1      676\n",
      "dtype: int64 \n",
      "\n",
      "Film-Noir\n",
      "0    26948\n",
      "1      330\n",
      "dtype: int64 \n",
      "\n",
      "Romance\n",
      "0    23151\n",
      "1     4127\n",
      "dtype: int64 \n",
      "\n",
      "War\n",
      "0    26084\n",
      "1     1194\n",
      "dtype: int64 \n",
      "\n",
      "Sci-Fi\n",
      "0    25535\n",
      "1     1743\n",
      "dtype: int64 \n",
      "\n",
      "Musical\n",
      "0    26242\n",
      "1     1036\n",
      "dtype: int64 \n",
      "\n",
      "IMAX\n",
      "0    27082\n",
      "1      196\n",
      "dtype: int64 \n",
      "\n",
      "(no genres listed)\n",
      "0    27032\n",
      "1      246\n",
      "dtype: int64 \n",
      "\n"
     ]
    }
   ],
   "source": [
    "for genre in genres[0].unique():\n",
    "    print(movie.value_counts(genre), '\\n')"
   ]
  },
  {
   "cell_type": "code",
   "execution_count": 21,
   "metadata": {
    "colab": {
     "base_uri": "https://localhost:8080/"
    },
    "id": "skh8ewQyzhyY",
    "outputId": "29f6c6a5-e1d4-4210-8fbe-5b11ae2a1de3"
   },
   "outputs": [
    {
     "data": {
      "text/plain": [
       "0             NaN\n",
       "1        3.921240\n",
       "2        3.211977\n",
       "3        3.151040\n",
       "4        2.861393\n",
       "           ...   \n",
       "27273    2.750000\n",
       "27274    2.937500\n",
       "27275         NaN\n",
       "27276    3.900000\n",
       "27277    2.333333\n",
       "Name: rating, Length: 27278, dtype: float64"
      ]
     },
     "execution_count": 21,
     "metadata": {},
     "output_type": "execute_result"
    }
   ],
   "source": [
    "# Добавим средний рейтинг\n",
    "movie['rating'] = rating.groupby(by='movieId').mean()['rating']\n",
    "movie['rating']"
   ]
  },
  {
   "cell_type": "code",
   "execution_count": 23,
   "metadata": {
    "id": "wazsv5GS15Yw"
   },
   "outputs": [],
   "source": [
    "# сделаем колонку года\n",
    "year = movie['title'].str.findall('\\((\\d{4})\\)').str.get(0)\n",
    "movie['Year'] = year"
   ]
  },
  {
   "cell_type": "code",
   "execution_count": 25,
   "metadata": {
    "id": "R7twicDe2wFX"
   },
   "outputs": [],
   "source": [
    "# сделаем отдельную таблицу с тегами\n",
    "movie_opinion = movie.copy()"
   ]
  },
  {
   "cell_type": "code",
   "execution_count": 26,
   "metadata": {
    "id": "67z7o2Pn3Xd3"
   },
   "outputs": [],
   "source": [
    "movie_opinion_ = pd.merge(movie_opinion, tag, left_on='movieId', right_on='movieId')"
   ]
  },
  {
   "cell_type": "code",
   "execution_count": 27,
   "metadata": {
    "id": "gJRhLBIJb-Ho"
   },
   "outputs": [],
   "source": [
    "tags_ = pd.DataFrame(movie_opinion_.groupby('movieId').count()['tag'])\n",
    "movie_opinion = pd.merge(movie_opinion, tags_, left_on='movieId', right_on='movieId')\n"
   ]
  },
  {
   "cell_type": "code",
   "execution_count": 28,
   "metadata": {
    "colab": {
     "base_uri": "https://localhost:8080/",
     "height": 484
    },
    "id": "w6uuSTP6csKv",
    "outputId": "84b22f86-6202-4c14-cd1e-bcd6c2ec3b78"
   },
   "outputs": [
    {
     "data": {
      "text/html": [
       "<div>\n",
       "<style scoped>\n",
       "    .dataframe tbody tr th:only-of-type {\n",
       "        vertical-align: middle;\n",
       "    }\n",
       "\n",
       "    .dataframe tbody tr th {\n",
       "        vertical-align: top;\n",
       "    }\n",
       "\n",
       "    .dataframe thead th {\n",
       "        text-align: right;\n",
       "    }\n",
       "</style>\n",
       "<table border=\"1\" class=\"dataframe\">\n",
       "  <thead>\n",
       "    <tr style=\"text-align: right;\">\n",
       "      <th></th>\n",
       "      <th>movieId</th>\n",
       "      <th>title</th>\n",
       "      <th>genres</th>\n",
       "      <th>Adventure</th>\n",
       "      <th>Comedy</th>\n",
       "      <th>Action</th>\n",
       "      <th>Drama</th>\n",
       "      <th>Crime</th>\n",
       "      <th>Children</th>\n",
       "      <th>Mystery</th>\n",
       "      <th>...</th>\n",
       "      <th>Film-Noir</th>\n",
       "      <th>Romance</th>\n",
       "      <th>War</th>\n",
       "      <th>Sci-Fi</th>\n",
       "      <th>Musical</th>\n",
       "      <th>IMAX</th>\n",
       "      <th>(no genres listed)</th>\n",
       "      <th>rating</th>\n",
       "      <th>Year</th>\n",
       "      <th>tag</th>\n",
       "    </tr>\n",
       "  </thead>\n",
       "  <tbody>\n",
       "    <tr>\n",
       "      <th>0</th>\n",
       "      <td>1</td>\n",
       "      <td>Toy Story (1995)</td>\n",
       "      <td>Adventure|Animation|Children|Comedy|Fantasy</td>\n",
       "      <td>1</td>\n",
       "      <td>1</td>\n",
       "      <td>0</td>\n",
       "      <td>0</td>\n",
       "      <td>0</td>\n",
       "      <td>1</td>\n",
       "      <td>0</td>\n",
       "      <td>...</td>\n",
       "      <td>0</td>\n",
       "      <td>0</td>\n",
       "      <td>0</td>\n",
       "      <td>0</td>\n",
       "      <td>0</td>\n",
       "      <td>0</td>\n",
       "      <td>0</td>\n",
       "      <td>NaN</td>\n",
       "      <td>1995</td>\n",
       "      <td>436</td>\n",
       "    </tr>\n",
       "    <tr>\n",
       "      <th>1</th>\n",
       "      <td>2</td>\n",
       "      <td>Jumanji (1995)</td>\n",
       "      <td>Adventure|Children|Fantasy</td>\n",
       "      <td>1</td>\n",
       "      <td>0</td>\n",
       "      <td>0</td>\n",
       "      <td>0</td>\n",
       "      <td>0</td>\n",
       "      <td>1</td>\n",
       "      <td>0</td>\n",
       "      <td>...</td>\n",
       "      <td>0</td>\n",
       "      <td>0</td>\n",
       "      <td>0</td>\n",
       "      <td>0</td>\n",
       "      <td>0</td>\n",
       "      <td>0</td>\n",
       "      <td>0</td>\n",
       "      <td>3.921240</td>\n",
       "      <td>1995</td>\n",
       "      <td>123</td>\n",
       "    </tr>\n",
       "    <tr>\n",
       "      <th>2</th>\n",
       "      <td>3</td>\n",
       "      <td>Grumpier Old Men (1995)</td>\n",
       "      <td>Comedy|Romance</td>\n",
       "      <td>0</td>\n",
       "      <td>1</td>\n",
       "      <td>0</td>\n",
       "      <td>0</td>\n",
       "      <td>0</td>\n",
       "      <td>0</td>\n",
       "      <td>0</td>\n",
       "      <td>...</td>\n",
       "      <td>0</td>\n",
       "      <td>1</td>\n",
       "      <td>0</td>\n",
       "      <td>0</td>\n",
       "      <td>0</td>\n",
       "      <td>0</td>\n",
       "      <td>0</td>\n",
       "      <td>3.211977</td>\n",
       "      <td>1995</td>\n",
       "      <td>18</td>\n",
       "    </tr>\n",
       "    <tr>\n",
       "      <th>3</th>\n",
       "      <td>4</td>\n",
       "      <td>Waiting to Exhale (1995)</td>\n",
       "      <td>Comedy|Drama|Romance</td>\n",
       "      <td>0</td>\n",
       "      <td>1</td>\n",
       "      <td>0</td>\n",
       "      <td>1</td>\n",
       "      <td>0</td>\n",
       "      <td>0</td>\n",
       "      <td>0</td>\n",
       "      <td>...</td>\n",
       "      <td>0</td>\n",
       "      <td>1</td>\n",
       "      <td>0</td>\n",
       "      <td>0</td>\n",
       "      <td>0</td>\n",
       "      <td>0</td>\n",
       "      <td>0</td>\n",
       "      <td>3.151040</td>\n",
       "      <td>1995</td>\n",
       "      <td>6</td>\n",
       "    </tr>\n",
       "    <tr>\n",
       "      <th>4</th>\n",
       "      <td>5</td>\n",
       "      <td>Father of the Bride Part II (1995)</td>\n",
       "      <td>Comedy</td>\n",
       "      <td>0</td>\n",
       "      <td>1</td>\n",
       "      <td>0</td>\n",
       "      <td>0</td>\n",
       "      <td>0</td>\n",
       "      <td>0</td>\n",
       "      <td>0</td>\n",
       "      <td>...</td>\n",
       "      <td>0</td>\n",
       "      <td>0</td>\n",
       "      <td>0</td>\n",
       "      <td>0</td>\n",
       "      <td>0</td>\n",
       "      <td>0</td>\n",
       "      <td>0</td>\n",
       "      <td>2.861393</td>\n",
       "      <td>1995</td>\n",
       "      <td>22</td>\n",
       "    </tr>\n",
       "  </tbody>\n",
       "</table>\n",
       "<p>5 rows × 26 columns</p>\n",
       "</div>"
      ],
      "text/plain": [
       "   movieId                               title  \\\n",
       "0        1                    Toy Story (1995)   \n",
       "1        2                      Jumanji (1995)   \n",
       "2        3             Grumpier Old Men (1995)   \n",
       "3        4            Waiting to Exhale (1995)   \n",
       "4        5  Father of the Bride Part II (1995)   \n",
       "\n",
       "                                        genres  Adventure  Comedy  Action  \\\n",
       "0  Adventure|Animation|Children|Comedy|Fantasy          1       1       0   \n",
       "1                   Adventure|Children|Fantasy          1       0       0   \n",
       "2                               Comedy|Romance          0       1       0   \n",
       "3                         Comedy|Drama|Romance          0       1       0   \n",
       "4                                       Comedy          0       1       0   \n",
       "\n",
       "   Drama  Crime  Children  Mystery  ...  Film-Noir  Romance  War  Sci-Fi  \\\n",
       "0      0      0         1        0  ...          0        0    0       0   \n",
       "1      0      0         1        0  ...          0        0    0       0   \n",
       "2      0      0         0        0  ...          0        1    0       0   \n",
       "3      1      0         0        0  ...          0        1    0       0   \n",
       "4      0      0         0        0  ...          0        0    0       0   \n",
       "\n",
       "   Musical  IMAX  (no genres listed)    rating  Year  tag  \n",
       "0        0     0                   0       NaN  1995  436  \n",
       "1        0     0                   0  3.921240  1995  123  \n",
       "2        0     0                   0  3.211977  1995   18  \n",
       "3        0     0                   0  3.151040  1995    6  \n",
       "4        0     0                   0  2.861393  1995   22  \n",
       "\n",
       "[5 rows x 26 columns]"
      ]
     },
     "execution_count": 28,
     "metadata": {},
     "output_type": "execute_result"
    }
   ],
   "source": [
    "movie_opinion.head()"
   ]
  },
  {
   "cell_type": "code",
   "execution_count": 32,
   "metadata": {
    "colab": {
     "base_uri": "https://localhost:8080/"
    },
    "id": "-VnOh4eHp-YF",
    "outputId": "4165f834-aaca-4dc0-c9de-2af77a0a3f4a"
   },
   "outputs": [
    {
     "data": {
      "text/plain": [
       "2.0599641852136097"
      ]
     },
     "execution_count": 32,
     "metadata": {},
     "output_type": "execute_result"
    }
   ],
   "source": [
    "np.mean(movie_opinion[movie_opinion.columns[3:-3]].sum(axis=1)) # в среднем по 2 жанра у фильма"
   ]
  },
  {
   "cell_type": "code",
   "execution_count": 33,
   "metadata": {
    "colab": {
     "base_uri": "https://localhost:8080/",
     "height": 441
    },
    "id": "2BaGIyf0m4XB",
    "outputId": "c31cd711-bad6-4467-b620-a641bfbd703a"
   },
   "outputs": [
    {
     "data": {
      "image/png": "[encoded data removed]",
      "text/plain": [
       "<Figure size 432x432 with 3 Axes>"
      ]
     },
     "metadata": {
      "needs_background": "light"
     },
     "output_type": "display_data"
    }
   ],
   "source": [
    "sns.jointplot(data=movie_opinion,\n",
    "              x='rating',\n",
    "              y=movie_opinion[movie_opinion.columns[3:-3]].sum(axis=1)) # распределение оценок в зависимости от количества жанров"
   ]
  },
  {
   "cell_type": "code",
   "execution_count": 34,
   "metadata": {
    "id": "wAPIBW4crhS6"
   },
   "outputs": [],
   "source": [
    "genres = movie['genres'].str.split('|', expand=True) # посчитаем количество жанров\n",
    "genres['Year'] = movie['Year']"
   ]
  },
  {
   "cell_type": "code",
   "execution_count": 718,
   "metadata": {
    "id": "uiS3InF_dI_d"
   },
   "outputs": [
    {
     "data": {
      "text/html": [
       "<div>\n",
       "<style scoped>\n",
       "    .dataframe tbody tr th:only-of-type {\n",
       "        vertical-align: middle;\n",
       "    }\n",
       "\n",
       "    .dataframe tbody tr th {\n",
       "        vertical-align: top;\n",
       "    }\n",
       "\n",
       "    .dataframe thead th {\n",
       "        text-align: right;\n",
       "    }\n",
       "</style>\n",
       "<table border=\"1\" class=\"dataframe\">\n",
       "  <thead>\n",
       "    <tr style=\"text-align: right;\">\n",
       "      <th></th>\n",
       "      <th>0</th>\n",
       "      <th>1</th>\n",
       "      <th>2</th>\n",
       "      <th>3</th>\n",
       "      <th>4</th>\n",
       "      <th>5</th>\n",
       "      <th>6</th>\n",
       "      <th>7</th>\n",
       "      <th>8</th>\n",
       "      <th>9</th>\n",
       "      <th>Year</th>\n",
       "    </tr>\n",
       "  </thead>\n",
       "  <tbody>\n",
       "    <tr>\n",
       "      <th>0</th>\n",
       "      <td>Adventure</td>\n",
       "      <td>Animation</td>\n",
       "      <td>Children</td>\n",
       "      <td>Comedy</td>\n",
       "      <td>Fantasy</td>\n",
       "      <td>0</td>\n",
       "      <td>0</td>\n",
       "      <td>0</td>\n",
       "      <td>0</td>\n",
       "      <td>0</td>\n",
       "      <td>1995</td>\n",
       "    </tr>\n",
       "    <tr>\n",
       "      <th>1</th>\n",
       "      <td>Adventure</td>\n",
       "      <td>Children</td>\n",
       "      <td>Fantasy</td>\n",
       "      <td>0</td>\n",
       "      <td>0</td>\n",
       "      <td>0</td>\n",
       "      <td>0</td>\n",
       "      <td>0</td>\n",
       "      <td>0</td>\n",
       "      <td>0</td>\n",
       "      <td>1995</td>\n",
       "    </tr>\n",
       "    <tr>\n",
       "      <th>2</th>\n",
       "      <td>Comedy</td>\n",
       "      <td>Romance</td>\n",
       "      <td>0</td>\n",
       "      <td>0</td>\n",
       "      <td>0</td>\n",
       "      <td>0</td>\n",
       "      <td>0</td>\n",
       "      <td>0</td>\n",
       "      <td>0</td>\n",
       "      <td>0</td>\n",
       "      <td>1995</td>\n",
       "    </tr>\n",
       "    <tr>\n",
       "      <th>3</th>\n",
       "      <td>Comedy</td>\n",
       "      <td>Drama</td>\n",
       "      <td>Romance</td>\n",
       "      <td>0</td>\n",
       "      <td>0</td>\n",
       "      <td>0</td>\n",
       "      <td>0</td>\n",
       "      <td>0</td>\n",
       "      <td>0</td>\n",
       "      <td>0</td>\n",
       "      <td>1995</td>\n",
       "    </tr>\n",
       "    <tr>\n",
       "      <th>4</th>\n",
       "      <td>Comedy</td>\n",
       "      <td>0</td>\n",
       "      <td>0</td>\n",
       "      <td>0</td>\n",
       "      <td>0</td>\n",
       "      <td>0</td>\n",
       "      <td>0</td>\n",
       "      <td>0</td>\n",
       "      <td>0</td>\n",
       "      <td>0</td>\n",
       "      <td>1995</td>\n",
       "    </tr>\n",
       "  </tbody>\n",
       "</table>\n",
       "</div>"
      ],
      "text/plain": [
       "           0          1         2       3        4  5  6  7  8  9  Year\n",
       "0  Adventure  Animation  Children  Comedy  Fantasy  0  0  0  0  0  1995\n",
       "1  Adventure   Children   Fantasy       0        0  0  0  0  0  0  1995\n",
       "2     Comedy    Romance         0       0        0  0  0  0  0  0  1995\n",
       "3     Comedy      Drama   Romance       0        0  0  0  0  0  0  1995\n",
       "4     Comedy          0         0       0        0  0  0  0  0  0  1995"
      ]
     },
     "execution_count": 718,
     "metadata": {},
     "output_type": "execute_result"
    }
   ],
   "source": [
    "genres.fillna(0, inplace=True)\n",
    "genres.head()"
   ]
  },
  {
   "cell_type": "code",
   "execution_count": 40,
   "metadata": {
    "id": "z52vmCmGtoh5"
   },
   "outputs": [],
   "source": [
    "all_genres_sum = pd.DataFrame(index=pd.DataFrame(genres[0].value_counts()).index)\n",
    "for i in range(10):\n",
    "      all_genres_sum[i] = pd.DataFrame(genres[i].value_counts())"
   ]
  },
  {
   "cell_type": "code",
   "execution_count": 41,
   "metadata": {
    "colab": {
     "base_uri": "https://localhost:8080/",
     "height": 669
    },
    "id": "TN6OFRefuL1h",
    "outputId": "8f84a2fb-2c16-4a49-bef8-c5d8992a0967"
   },
   "outputs": [
    {
     "data": {
      "text/html": [
       "<div>\n",
       "<style scoped>\n",
       "    .dataframe tbody tr th:only-of-type {\n",
       "        vertical-align: middle;\n",
       "    }\n",
       "\n",
       "    .dataframe tbody tr th {\n",
       "        vertical-align: top;\n",
       "    }\n",
       "\n",
       "    .dataframe thead th {\n",
       "        text-align: right;\n",
       "    }\n",
       "</style>\n",
       "<table border=\"1\" class=\"dataframe\">\n",
       "  <thead>\n",
       "    <tr style=\"text-align: right;\">\n",
       "      <th></th>\n",
       "      <th>0</th>\n",
       "      <th>1</th>\n",
       "      <th>2</th>\n",
       "      <th>3</th>\n",
       "      <th>4</th>\n",
       "      <th>5</th>\n",
       "      <th>6</th>\n",
       "      <th>7</th>\n",
       "      <th>8</th>\n",
       "      <th>9</th>\n",
       "    </tr>\n",
       "  </thead>\n",
       "  <tbody>\n",
       "    <tr>\n",
       "      <th>Drama</th>\n",
       "      <td>7875</td>\n",
       "      <td>4452.0</td>\n",
       "      <td>891.0</td>\n",
       "      <td>113.0</td>\n",
       "      <td>13.0</td>\n",
       "      <td>0.0</td>\n",
       "      <td>0.0</td>\n",
       "      <td>0.0</td>\n",
       "      <td>0.0</td>\n",
       "      <td>0.0</td>\n",
       "    </tr>\n",
       "    <tr>\n",
       "      <th>Comedy</th>\n",
       "      <td>6793</td>\n",
       "      <td>1099.0</td>\n",
       "      <td>348.0</td>\n",
       "      <td>116.0</td>\n",
       "      <td>18.0</td>\n",
       "      <td>0.0</td>\n",
       "      <td>0.0</td>\n",
       "      <td>0.0</td>\n",
       "      <td>0.0</td>\n",
       "      <td>0.0</td>\n",
       "    </tr>\n",
       "    <tr>\n",
       "      <th>Action</th>\n",
       "      <td>3520</td>\n",
       "      <td>0.0</td>\n",
       "      <td>0.0</td>\n",
       "      <td>0.0</td>\n",
       "      <td>0.0</td>\n",
       "      <td>0.0</td>\n",
       "      <td>0.0</td>\n",
       "      <td>0.0</td>\n",
       "      <td>0.0</td>\n",
       "      <td>0.0</td>\n",
       "    </tr>\n",
       "    <tr>\n",
       "      <th>Documentary</th>\n",
       "      <td>2247</td>\n",
       "      <td>206.0</td>\n",
       "      <td>16.0</td>\n",
       "      <td>2.0</td>\n",
       "      <td>0.0</td>\n",
       "      <td>0.0</td>\n",
       "      <td>0.0</td>\n",
       "      <td>0.0</td>\n",
       "      <td>0.0</td>\n",
       "      <td>0.0</td>\n",
       "    </tr>\n",
       "    <tr>\n",
       "      <th>Crime</th>\n",
       "      <td>1617</td>\n",
       "      <td>1035.0</td>\n",
       "      <td>246.0</td>\n",
       "      <td>37.0</td>\n",
       "      <td>4.0</td>\n",
       "      <td>0.0</td>\n",
       "      <td>0.0</td>\n",
       "      <td>0.0</td>\n",
       "      <td>0.0</td>\n",
       "      <td>0.0</td>\n",
       "    </tr>\n",
       "    <tr>\n",
       "      <th>Horror</th>\n",
       "      <td>1380</td>\n",
       "      <td>919.0</td>\n",
       "      <td>255.0</td>\n",
       "      <td>49.0</td>\n",
       "      <td>7.0</td>\n",
       "      <td>0.0</td>\n",
       "      <td>1.0</td>\n",
       "      <td>0.0</td>\n",
       "      <td>0.0</td>\n",
       "      <td>0.0</td>\n",
       "    </tr>\n",
       "    <tr>\n",
       "      <th>Adventure</th>\n",
       "      <td>1357</td>\n",
       "      <td>972.0</td>\n",
       "      <td>0.0</td>\n",
       "      <td>0.0</td>\n",
       "      <td>0.0</td>\n",
       "      <td>0.0</td>\n",
       "      <td>0.0</td>\n",
       "      <td>0.0</td>\n",
       "      <td>0.0</td>\n",
       "      <td>0.0</td>\n",
       "    </tr>\n",
       "    <tr>\n",
       "      <th>Animation</th>\n",
       "      <td>571</td>\n",
       "      <td>362.0</td>\n",
       "      <td>94.0</td>\n",
       "      <td>0.0</td>\n",
       "      <td>0.0</td>\n",
       "      <td>0.0</td>\n",
       "      <td>0.0</td>\n",
       "      <td>0.0</td>\n",
       "      <td>0.0</td>\n",
       "      <td>0.0</td>\n",
       "    </tr>\n",
       "    <tr>\n",
       "      <th>Children</th>\n",
       "      <td>414</td>\n",
       "      <td>462.0</td>\n",
       "      <td>229.0</td>\n",
       "      <td>34.0</td>\n",
       "      <td>0.0</td>\n",
       "      <td>0.0</td>\n",
       "      <td>0.0</td>\n",
       "      <td>0.0</td>\n",
       "      <td>0.0</td>\n",
       "      <td>0.0</td>\n",
       "    </tr>\n",
       "    <tr>\n",
       "      <th>Thriller</th>\n",
       "      <td>279</td>\n",
       "      <td>1301.0</td>\n",
       "      <td>1598.0</td>\n",
       "      <td>754.0</td>\n",
       "      <td>205.0</td>\n",
       "      <td>30.0</td>\n",
       "      <td>6.0</td>\n",
       "      <td>4.0</td>\n",
       "      <td>1.0</td>\n",
       "      <td>0.0</td>\n",
       "    </tr>\n",
       "    <tr>\n",
       "      <th>(no genres listed)</th>\n",
       "      <td>246</td>\n",
       "      <td>0.0</td>\n",
       "      <td>0.0</td>\n",
       "      <td>0.0</td>\n",
       "      <td>0.0</td>\n",
       "      <td>0.0</td>\n",
       "      <td>0.0</td>\n",
       "      <td>0.0</td>\n",
       "      <td>0.0</td>\n",
       "      <td>0.0</td>\n",
       "    </tr>\n",
       "    <tr>\n",
       "      <th>Western</th>\n",
       "      <td>215</td>\n",
       "      <td>220.0</td>\n",
       "      <td>149.0</td>\n",
       "      <td>70.0</td>\n",
       "      <td>18.0</td>\n",
       "      <td>3.0</td>\n",
       "      <td>0.0</td>\n",
       "      <td>0.0</td>\n",
       "      <td>0.0</td>\n",
       "      <td>1.0</td>\n",
       "    </tr>\n",
       "    <tr>\n",
       "      <th>Sci-Fi</th>\n",
       "      <td>168</td>\n",
       "      <td>669.0</td>\n",
       "      <td>608.0</td>\n",
       "      <td>209.0</td>\n",
       "      <td>66.0</td>\n",
       "      <td>19.0</td>\n",
       "      <td>4.0</td>\n",
       "      <td>0.0</td>\n",
       "      <td>0.0</td>\n",
       "      <td>0.0</td>\n",
       "    </tr>\n",
       "    <tr>\n",
       "      <th>Mystery</th>\n",
       "      <td>146</td>\n",
       "      <td>657.0</td>\n",
       "      <td>542.0</td>\n",
       "      <td>132.0</td>\n",
       "      <td>29.0</td>\n",
       "      <td>6.0</td>\n",
       "      <td>1.0</td>\n",
       "      <td>1.0</td>\n",
       "      <td>0.0</td>\n",
       "      <td>0.0</td>\n",
       "    </tr>\n",
       "    <tr>\n",
       "      <th>Romance</th>\n",
       "      <td>145</td>\n",
       "      <td>2199.0</td>\n",
       "      <td>1405.0</td>\n",
       "      <td>293.0</td>\n",
       "      <td>60.0</td>\n",
       "      <td>19.0</td>\n",
       "      <td>5.0</td>\n",
       "      <td>1.0</td>\n",
       "      <td>0.0</td>\n",
       "      <td>0.0</td>\n",
       "    </tr>\n",
       "    <tr>\n",
       "      <th>Fantasy</th>\n",
       "      <td>137</td>\n",
       "      <td>560.0</td>\n",
       "      <td>463.0</td>\n",
       "      <td>181.0</td>\n",
       "      <td>64.0</td>\n",
       "      <td>7.0</td>\n",
       "      <td>0.0</td>\n",
       "      <td>0.0</td>\n",
       "      <td>0.0</td>\n",
       "      <td>0.0</td>\n",
       "    </tr>\n",
       "    <tr>\n",
       "      <th>Musical</th>\n",
       "      <td>94</td>\n",
       "      <td>598.0</td>\n",
       "      <td>224.0</td>\n",
       "      <td>86.0</td>\n",
       "      <td>29.0</td>\n",
       "      <td>4.0</td>\n",
       "      <td>1.0</td>\n",
       "      <td>0.0</td>\n",
       "      <td>0.0</td>\n",
       "      <td>0.0</td>\n",
       "    </tr>\n",
       "    <tr>\n",
       "      <th>Film-Noir</th>\n",
       "      <td>38</td>\n",
       "      <td>146.0</td>\n",
       "      <td>138.0</td>\n",
       "      <td>6.0</td>\n",
       "      <td>1.0</td>\n",
       "      <td>1.0</td>\n",
       "      <td>0.0</td>\n",
       "      <td>0.0</td>\n",
       "      <td>0.0</td>\n",
       "      <td>0.0</td>\n",
       "    </tr>\n",
       "    <tr>\n",
       "      <th>War</th>\n",
       "      <td>35</td>\n",
       "      <td>561.0</td>\n",
       "      <td>403.0</td>\n",
       "      <td>145.0</td>\n",
       "      <td>39.0</td>\n",
       "      <td>7.0</td>\n",
       "      <td>4.0</td>\n",
       "      <td>0.0</td>\n",
       "      <td>0.0</td>\n",
       "      <td>0.0</td>\n",
       "    </tr>\n",
       "    <tr>\n",
       "      <th>IMAX</th>\n",
       "      <td>1</td>\n",
       "      <td>31.0</td>\n",
       "      <td>31.0</td>\n",
       "      <td>83.0</td>\n",
       "      <td>33.0</td>\n",
       "      <td>13.0</td>\n",
       "      <td>4.0</td>\n",
       "      <td>0.0</td>\n",
       "      <td>0.0</td>\n",
       "      <td>0.0</td>\n",
       "    </tr>\n",
       "  </tbody>\n",
       "</table>\n",
       "</div>"
      ],
      "text/plain": [
       "                       0       1       2      3      4     5    6    7    8  \\\n",
       "Drama               7875  4452.0   891.0  113.0   13.0   0.0  0.0  0.0  0.0   \n",
       "Comedy              6793  1099.0   348.0  116.0   18.0   0.0  0.0  0.0  0.0   \n",
       "Action              3520     0.0     0.0    0.0    0.0   0.0  0.0  0.0  0.0   \n",
       "Documentary         2247   206.0    16.0    2.0    0.0   0.0  0.0  0.0  0.0   \n",
       "Crime               1617  1035.0   246.0   37.0    4.0   0.0  0.0  0.0  0.0   \n",
       "Horror              1380   919.0   255.0   49.0    7.0   0.0  1.0  0.0  0.0   \n",
       "Adventure           1357   972.0     0.0    0.0    0.0   0.0  0.0  0.0  0.0   \n",
       "Animation            571   362.0    94.0    0.0    0.0   0.0  0.0  0.0  0.0   \n",
       "Children             414   462.0   229.0   34.0    0.0   0.0  0.0  0.0  0.0   \n",
       "Thriller             279  1301.0  1598.0  754.0  205.0  30.0  6.0  4.0  1.0   \n",
       "(no genres listed)   246     0.0     0.0    0.0    0.0   0.0  0.0  0.0  0.0   \n",
       "Western              215   220.0   149.0   70.0   18.0   3.0  0.0  0.0  0.0   \n",
       "Sci-Fi               168   669.0   608.0  209.0   66.0  19.0  4.0  0.0  0.0   \n",
       "Mystery              146   657.0   542.0  132.0   29.0   6.0  1.0  1.0  0.0   \n",
       "Romance              145  2199.0  1405.0  293.0   60.0  19.0  5.0  1.0  0.0   \n",
       "Fantasy              137   560.0   463.0  181.0   64.0   7.0  0.0  0.0  0.0   \n",
       "Musical               94   598.0   224.0   86.0   29.0   4.0  1.0  0.0  0.0   \n",
       "Film-Noir             38   146.0   138.0    6.0    1.0   1.0  0.0  0.0  0.0   \n",
       "War                   35   561.0   403.0  145.0   39.0   7.0  4.0  0.0  0.0   \n",
       "IMAX                   1    31.0    31.0   83.0   33.0  13.0  4.0  0.0  0.0   \n",
       "\n",
       "                      9  \n",
       "Drama               0.0  \n",
       "Comedy              0.0  \n",
       "Action              0.0  \n",
       "Documentary         0.0  \n",
       "Crime               0.0  \n",
       "Horror              0.0  \n",
       "Adventure           0.0  \n",
       "Animation           0.0  \n",
       "Children            0.0  \n",
       "Thriller            0.0  \n",
       "(no genres listed)  0.0  \n",
       "Western             1.0  \n",
       "Sci-Fi              0.0  \n",
       "Mystery             0.0  \n",
       "Romance             0.0  \n",
       "Fantasy             0.0  \n",
       "Musical             0.0  \n",
       "Film-Noir           0.0  \n",
       "War                 0.0  \n",
       "IMAX                0.0  "
      ]
     },
     "execution_count": 41,
     "metadata": {},
     "output_type": "execute_result"
    }
   ],
   "source": [
    "all_genres_sum.fillna(0, inplace=True) # по иерархии\n",
    "all_genres_sum"
   ]
  },
  {
   "cell_type": "code",
   "execution_count": 42,
   "metadata": {
    "colab": {
     "base_uri": "https://localhost:8080/"
    },
    "id": "v3eRe8pIuoL4",
    "outputId": "d4c2bcdf-fb60-4c4b-a81f-88b6ababe117"
   },
   "outputs": [
    {
     "data": {
      "text/plain": [
       "Drama                 13344.0\n",
       "Comedy                 8374.0\n",
       "Action                 3520.0\n",
       "Documentary            2471.0\n",
       "Crime                  2939.0\n",
       "Horror                 2611.0\n",
       "Adventure              2329.0\n",
       "Animation              1027.0\n",
       "Children               1139.0\n",
       "Thriller               4178.0\n",
       "(no genres listed)      246.0\n",
       "Western                 676.0\n",
       "Sci-Fi                 1743.0\n",
       "Mystery                1514.0\n",
       "Romance                4127.0\n",
       "Fantasy                1412.0\n",
       "Musical                1036.0\n",
       "Film-Noir               330.0\n",
       "War                    1194.0\n",
       "IMAX                    196.0\n",
       "dtype: float64"
      ]
     },
     "execution_count": 42,
     "metadata": {},
     "output_type": "execute_result"
    }
   ],
   "source": [
    "all_genres_sum.sum(axis=1) # сложим все и построим график"
   ]
  },
  {
   "cell_type": "code",
   "execution_count": 43,
   "metadata": {
    "colab": {
     "base_uri": "https://localhost:8080/",
     "height": 435
    },
    "id": "rxDYnRcnaC1j",
    "outputId": "9d1a8868-dfee-47f6-fba3-f69c819cd449"
   },
   "outputs": [
    {
     "name": "stderr",
     "output_type": "stream",
     "text": [
      "/Library/Frameworks/Python.framework/Versions/3.9/lib/python3.9/site-packages/seaborn/_decorators.py:36: FutureWarning: Pass the following variables as keyword args: x, y. From version 0.12, the only valid positional argument will be `data`, and passing other arguments without an explicit keyword will result in an error or misinterpretation.\n",
      "  warnings.warn(\n"
     ]
    },
    {
     "data": {
      "text/plain": [
       "(array([ 0,  1,  2,  3,  4,  5,  6,  7,  8,  9, 10, 11, 12, 13, 14, 15, 16,\n",
       "        17, 18, 19]),\n",
       " [Text(0, 0, 'Drama'),\n",
       "  Text(1, 0, 'Comedy'),\n",
       "  Text(2, 0, 'Action'),\n",
       "  Text(3, 0, 'Documentary'),\n",
       "  Text(4, 0, 'Crime'),\n",
       "  Text(5, 0, 'Horror'),\n",
       "  Text(6, 0, 'Adventure'),\n",
       "  Text(7, 0, 'Animation'),\n",
       "  Text(8, 0, 'Children'),\n",
       "  Text(9, 0, 'Thriller'),\n",
       "  Text(10, 0, '(no genres listed)'),\n",
       "  Text(11, 0, 'Western'),\n",
       "  Text(12, 0, 'Sci-Fi'),\n",
       "  Text(13, 0, 'Mystery'),\n",
       "  Text(14, 0, 'Romance'),\n",
       "  Text(15, 0, 'Fantasy'),\n",
       "  Text(16, 0, 'Musical'),\n",
       "  Text(17, 0, 'Film-Noir'),\n",
       "  Text(18, 0, 'War'),\n",
       "  Text(19, 0, 'IMAX')])"
      ]
     },
     "execution_count": 43,
     "metadata": {},
     "output_type": "execute_result"
    },
    {
     "data": {
      "image/png": "[encoded data removed]",
      "text/plain": [
       "<Figure size 432x288 with 1 Axes>"
      ]
     },
     "metadata": {
      "needs_background": "light"
     },
     "output_type": "display_data"
    }
   ],
   "source": [
    "sns.barplot(pd.DataFrame(all_genres_sum.sum(axis=1)).index, pd.DataFrame(all_genres_sum.sum(axis=1))[0])\n",
    "plt.xticks(rotation=90)"
   ]
  },
  {
   "cell_type": "code",
   "execution_count": 686,
   "metadata": {},
   "outputs": [],
   "source": [
    "movie_ = movie.copy()\n",
    "movie_['rating'].replace(np.nan, 0, inplace=True)"
   ]
  },
  {
   "cell_type": "code",
   "execution_count": 405,
   "metadata": {},
   "outputs": [
    {
     "name": "stderr",
     "output_type": "stream",
     "text": [
      "/Library/Frameworks/Python.framework/Versions/3.9/lib/python3.9/site-packages/pandas/core/frame.py:5039: SettingWithCopyWarning: \n",
      "A value is trying to be set on a copy of a slice from a DataFrame\n",
      "\n",
      "See the caveats in the documentation: https://pandas.pydata.org/pandas-docs/stable/user_guide/indexing.html#returning-a-view-versus-a-copy\n",
      "  return super().rename(\n"
     ]
    },
    {
     "data": {
      "application/vnd.jupyter.widget-view+json": {
       "model_id": "0d8412135c3c4c82b724db79b7dad4a6",
       "version_major": 2,
       "version_minor": 0
      },
      "text/plain": [
       "Summarize dataset:   0%|          | 0/5 [00:00<?, ?it/s]"
      ]
     },
     "metadata": {},
     "output_type": "display_data"
    },
    {
     "data": {
      "application/vnd.jupyter.widget-view+json": {
       "model_id": "6d870aa6e52b4887b614649cd7634346",
       "version_major": 2,
       "version_minor": 0
      },
      "text/plain": [
       "Generate report structure:   0%|          | 0/1 [00:00<?, ?it/s]"
      ]
     },
     "metadata": {},
     "output_type": "display_data"
    },
    {
     "data": {
      "application/vnd.jupyter.widget-view+json": {
       "model_id": "43ab1555fad145bfac796e7ecdfc614a",
       "version_major": 2,
       "version_minor": 0
      },
      "text/plain": [
       "Render HTML:   0%|          | 0/1 [00:00<?, ?it/s]"
      ]
     },
     "metadata": {},
     "output_type": "display_data"
    },
    {
     "data": {
      "application/vnd.jupyter.widget-view+json": {
       "model_id": "734bd30e0191426c8882245fec5d0f95",
       "version_major": 2,
       "version_minor": 0
      },
      "text/plain": [
       "Export report to file:   0%|          | 0/1 [00:00<?, ?it/s]"
      ]
     },
     "metadata": {},
     "output_type": "display_data"
    }
   ],
   "source": [
    "# построим общий html отчет (будет прикреплен на гите)\n",
    "profile = pandas_profiling.ProfileReport(movie_[movie_.columns[3:]])\n",
    "profile.to_file('movie_.html')"
   ]
  },
  {
   "cell_type": "markdown",
   "metadata": {
    "id": "kdjt9g95ZZDo"
   },
   "source": [
    "# Коллаборативный метод"
   ]
  },
  {
   "cell_type": "markdown",
   "metadata": {},
   "source": [
    "**Какие будем использовать метрики?** \\\n",
    "$RMSE$ - для обучения моделей, дополнительно - $nDCG$ для проверки качества ранжирования\\\n",
    "Для оценки предесказания качества рейтинга можно использовать любые регрессионные метрики. Я выбрала\n",
    "RMSE, поскольку она легко интерпретируется, что полезно для нашей задачи и MAE, которая покажет результат в том же масштабе, но с меньшим смещением на выбросах.\n",
    "\n",
    "$RMSE = \\sqrt{\\frac{1}{N}\\sum_{i=1}^{N}(y_i-a(x_i))^2}$, \\\n",
    "$y_i - test, a(x)_i - prediction$ \n",
    "\n",
    "$MAE = \\frac{1}{N}\\sum_{i=1}^{N}|y_i-a(x_i)|$ \n",
    "\n",
    "$nDCG = \\sum_{p=1}^k g(r_{ui_{p}})d(p)$,\\\n",
    "$u - user, i - item, g(r_{ui_{p}}) - prediction, d(p) - \\text{position penalty}$\n"
   ]
  },
  {
   "cell_type": "markdown",
   "metadata": {},
   "source": [
    "В датасете 138493 пользователей и 26744 фильмов. Матрица пользователь-фильм будет, соответственно, 138493 x 26744. Огромная! \n",
    "Для дальнейшей проверки моделей буду использовать урезенный датасет на 1000 рандомных пользователей."
   ]
  },
  {
   "cell_type": "code",
   "execution_count": 45,
   "metadata": {
    "colab": {
     "base_uri": "https://localhost:8080/"
    },
    "id": "XCVCU_5SUaPE",
    "outputId": "d8318e6f-ec0e-473f-e6b7-62f79f153bfd"
   },
   "outputs": [
    {
     "name": "stdout",
     "output_type": "stream",
     "text": [
      "количество пользователей: 138493\n",
      "количество фильмов: 26744\n"
     ]
    }
   ],
   "source": [
    "users = rating.userId.unique()\n",
    "movid = rating.movieId.unique()\n",
    "\n",
    "print('количество пользователей:', len(users))\n",
    "print('количество фильмов:', len(movid))"
   ]
  },
  {
   "cell_type": "code",
   "execution_count": 635,
   "metadata": {
    "id": "lmyGZVPRVY0h"
   },
   "outputs": [],
   "source": [
    "test, train = pd.DataFrame(columns=rating.columns), pd.DataFrame(columns=rating.columns)\n",
    "TEST_SIZE = 0.2"
   ]
  },
  {
   "cell_type": "code",
   "execution_count": 48,
   "metadata": {
    "id": "f2gxMGE5aPOV"
   },
   "outputs": [],
   "source": [
    "np.random.shuffle(users)\n",
    "users_1000 = users[:1000]"
   ]
  },
  {
   "cell_type": "code",
   "execution_count": null,
   "metadata": {},
   "outputs": [],
   "source": [
    "rating_1000 = rating[rating.userId.isin(users_1000)]\n",
    "# rating_1000.to_csv('rating_1000.csv', index=False)"
   ]
  },
  {
   "cell_type": "markdown",
   "metadata": {},
   "source": [
    "трейн и тест выборку делаю по дате выбора! Для каждого пользователя считаем 80% фильмов, которые он уже посмотрел,\n",
    "20% оставляем на проверку. Да, этот метод не учитывает, что разные люди посмотрели разный процент фильмов к одному сроку,\n",
    "поэтому модель не учитывает тренды и тд, но! У нас модельки простенькие, поэтому норм!"
   ]
  },
  {
   "cell_type": "code",
   "execution_count": 636,
   "metadata": {
    "colab": {
     "base_uri": "https://localhost:8080/"
    },
    "id": "_V686MtsaR4I",
    "outputId": "afcc485f-c5e0-41ab-9a6a-62aac19784fa"
   },
   "outputs": [
    {
     "name": "stderr",
     "output_type": "stream",
     "text": [
      "100%|███████████████████████████████████████| 1000/1000 [00:29<00:00, 33.35it/s]\n"
     ]
    }
   ],
   "source": [
    "test_size_dict_1000 = {}\n",
    "N_1000 = {}\n",
    "\n",
    "for user in tqdm(users_1000):\n",
    "      user_story = rating[rating.userId == user]\n",
    "      n = len(user_story)\n",
    "      N_1000[user] = n\n",
    "      test_size_dict_1000[user] = int(n * TEST_SIZE)\n",
    "      user_story = user_story.sort_values('timestamp').reset_index()\n",
    "      user_story.drop('index', axis=1, inplace=True)\n",
    "      dum_test = user_story[n-1-test_size_dict_1000[user]:] \n",
    "      dum_train = user_story[:n-2-test_size_dict_1000[user]]\n",
    "      test = pd.concat([test, dum_test])\n",
    "      train = pd.concat([train, dum_train])\n"
   ]
  },
  {
   "cell_type": "markdown",
   "metadata": {},
   "source": [
    "Сперва протестирем SVD модель. Для этого воспользуемся библиотекой Surprise. Для SVD нам не нужно подбирать гиперпараметры"
   ]
  },
  {
   "cell_type": "code",
   "execution_count": 722,
   "metadata": {
    "id": "aOHNGJL5eyG6"
   },
   "outputs": [],
   "source": [
    "reader = Reader()\n",
    "algo = SVD()\n",
    "data = Dataset.load_from_df(train[['userId', 'movieId', 'rating']], reader)"
   ]
  },
  {
   "cell_type": "code",
   "execution_count": 723,
   "metadata": {
    "colab": {
     "base_uri": "https://localhost:8080/"
    },
    "id": "Q989yV0bdB9C",
    "outputId": "123c61fc-ee4e-41bb-dd67-d68ae2b6b24c"
   },
   "outputs": [
    {
     "name": "stdout",
     "output_type": "stream",
     "text": [
      "Evaluating RMSE, MAE of algorithm SVD on 5 split(s).\n",
      "\n",
      "                  Fold 1  Fold 2  Fold 3  Fold 4  Fold 5  Mean    Std     \n",
      "RMSE (testset)    0.8938  0.8915  0.8986  0.9026  0.8963  0.8966  0.0038  \n",
      "MAE (testset)     0.6860  0.6851  0.6904  0.6912  0.6882  0.6882  0.0024  \n",
      "Fit time          4.96    4.76    4.70    5.13    4.73    4.85    0.16    \n",
      "Test time         0.20    0.12    0.12    0.14    0.14    0.15    0.03    \n"
     ]
    },
    {
     "data": {
      "text/plain": [
       "{'test_rmse': array([0.89383751, 0.89153821, 0.89860921, 0.90257789, 0.89627704]),\n",
       " 'test_mae': array([0.68602543, 0.6851491 , 0.69041227, 0.69121857, 0.68815676]),\n",
       " 'fit_time': (4.9558703899383545,\n",
       "  4.75550103187561,\n",
       "  4.699243068695068,\n",
       "  5.126535892486572,\n",
       "  4.73197603225708),\n",
       " 'test_time': (0.20391011238098145,\n",
       "  0.12338089942932129,\n",
       "  0.12378120422363281,\n",
       "  0.14311599731445312,\n",
       "  0.13712620735168457)}"
      ]
     },
     "execution_count": 723,
     "metadata": {},
     "output_type": "execute_result"
    }
   ],
   "source": [
    "# Обучим модель на кросс-валидации на трейновой выборке\n",
    "# средняя RMSE составляет 0.89, то есть модель в среднем ошибается меньше чем на балл\n",
    "\n",
    "cross_validate(algo, data, measures=['RMSE', 'MAE'], cv=5, verbose=True) "
   ]
  },
  {
   "cell_type": "code",
   "execution_count": 724,
   "metadata": {
    "colab": {
     "base_uri": "https://localhost:8080/"
    },
    "id": "ThVS7bp3w7ci",
    "outputId": "20ae3faa-fe43-4cc8-ddca-92e060d98833"
   },
   "outputs": [
    {
     "name": "stderr",
     "output_type": "stream",
     "text": [
      "100%|███████████████████████████████████████| 1000/1000 [04:00<00:00,  4.15it/s]\n"
     ]
    }
   ],
   "source": [
    "users_recommendations = pd.DataFrame(columns=['user_id','movieId', 'rating_predict', 'test'])\n",
    "\n",
    "# а теперь оценим на тесте (сравниваем только с рейтингом тех фильмов, который пользователь потом реально посмотрел)\n",
    "\n",
    "for user in tqdm(users_1000):\n",
    "      movies_to_recommend = test[test['userId'] == user].movieId.unique()\n",
    "      for moviee in movies_to_recommend:\n",
    "        users_recommendations = users_recommendations.append(\n",
    "            {\n",
    "                'user_id': user,\n",
    "                'movieId': moviee, \n",
    "                'rating_predict': algo.predict(user, moviee)[3],\n",
    "                'test': float(test[\n",
    "                             (test['userId'] == user) &\n",
    "                             (test['movieId'] == moviee)\n",
    "                        ]['rating'])\n",
    "             }, \n",
    "             ignore_index=True\n",
    "        )"
   ]
  },
  {
   "cell_type": "code",
   "execution_count": 725,
   "metadata": {},
   "outputs": [
    {
     "data": {
      "text/html": [
       "<div>\n",
       "<style scoped>\n",
       "    .dataframe tbody tr th:only-of-type {\n",
       "        vertical-align: middle;\n",
       "    }\n",
       "\n",
       "    .dataframe tbody tr th {\n",
       "        vertical-align: top;\n",
       "    }\n",
       "\n",
       "    .dataframe thead th {\n",
       "        text-align: right;\n",
       "    }\n",
       "</style>\n",
       "<table border=\"1\" class=\"dataframe\">\n",
       "  <thead>\n",
       "    <tr style=\"text-align: right;\">\n",
       "      <th></th>\n",
       "      <th>user_id</th>\n",
       "      <th>movieId</th>\n",
       "      <th>rating_predict</th>\n",
       "      <th>test</th>\n",
       "    </tr>\n",
       "  </thead>\n",
       "  <tbody>\n",
       "    <tr>\n",
       "      <th>0</th>\n",
       "      <td>58371.0</td>\n",
       "      <td>361.0</td>\n",
       "      <td>3.540778</td>\n",
       "      <td>3.0</td>\n",
       "    </tr>\n",
       "    <tr>\n",
       "      <th>1</th>\n",
       "      <td>58371.0</td>\n",
       "      <td>533.0</td>\n",
       "      <td>3.792923</td>\n",
       "      <td>3.0</td>\n",
       "    </tr>\n",
       "    <tr>\n",
       "      <th>2</th>\n",
       "      <td>58371.0</td>\n",
       "      <td>426.0</td>\n",
       "      <td>3.539933</td>\n",
       "      <td>4.0</td>\n",
       "    </tr>\n",
       "    <tr>\n",
       "      <th>3</th>\n",
       "      <td>58371.0</td>\n",
       "      <td>382.0</td>\n",
       "      <td>3.417551</td>\n",
       "      <td>4.0</td>\n",
       "    </tr>\n",
       "    <tr>\n",
       "      <th>4</th>\n",
       "      <td>58371.0</td>\n",
       "      <td>177.0</td>\n",
       "      <td>3.432084</td>\n",
       "      <td>5.0</td>\n",
       "    </tr>\n",
       "  </tbody>\n",
       "</table>\n",
       "</div>"
      ],
      "text/plain": [
       "   user_id  movieId  rating_predict  test\n",
       "0  58371.0    361.0        3.540778   3.0\n",
       "1  58371.0    533.0        3.792923   3.0\n",
       "2  58371.0    426.0        3.539933   4.0\n",
       "3  58371.0    382.0        3.417551   4.0\n",
       "4  58371.0    177.0        3.432084   5.0"
      ]
     },
     "execution_count": 725,
     "metadata": {},
     "output_type": "execute_result"
    }
   ],
   "source": [
    "users_recommendations.head()"
   ]
  },
  {
   "cell_type": "code",
   "execution_count": 726,
   "metadata": {
    "colab": {
     "base_uri": "https://localhost:8080/"
    },
    "id": "5bPTciWq95Rg",
    "outputId": "31a68cd4-879c-41e1-fed5-1a956fed9fca"
   },
   "outputs": [
    {
     "name": "stdout",
     "output_type": "stream",
     "text": [
      "RMSE: 0.9258421160767178\n"
     ]
    }
   ],
   "source": [
    "# на тесте ошибка незначительно больше\n",
    "print('RMSE:', np.sqrt(mean_squared_error(users_recommendations['test'], users_recommendations['rating_predict'])))"
   ]
  },
  {
   "cell_type": "code",
   "execution_count": 727,
   "metadata": {},
   "outputs": [],
   "source": [
    "ndcg_score_frame = pd.DataFrame(columns=['user_id', 'ndcg_score']) \n",
    "\n",
    "# отсортируем по рейтингу теста предложеныые фильмы\n",
    "# и оценим nDCG\n",
    "\n",
    "for user in users_recommendations.user_id.unique():\n",
    "    ind = users_recommendations[users_recommendations['user_id'] == user]['test'].sort_values()[-10:].index\n",
    "    result_predict = users_recommendations.iloc[ind].sort_values('test', ascending=False)\n",
    "    ndcg = ndcg_score([result_predict['test']], [result_predict['rating_predict']])\n",
    "    ndcg_score_frame = ndcg_score_frame.append({'user_id': user,'ndcg_score': ndcg}, ignore_index=True)"
   ]
  },
  {
   "cell_type": "code",
   "execution_count": 728,
   "metadata": {},
   "outputs": [
    {
     "name": "stdout",
     "output_type": "stream",
     "text": [
      "средняя nDCG: 0.9687941845870667\n"
     ]
    }
   ],
   "source": [
    "print('средняя nDCG:',ndcg_score_frame['ndcg_score'].mean())"
   ]
  },
  {
   "cell_type": "markdown",
   "metadata": {},
   "source": [
    "## ALS модель"
   ]
  },
  {
   "cell_type": "markdown",
   "metadata": {
    "id": "2VQetTAjDeOg"
   },
   "source": [
    "Для модели ALS воспользуемся библиотекой pyspark"
   ]
  },
  {
   "cell_type": "code",
   "execution_count": 729,
   "metadata": {},
   "outputs": [],
   "source": [
    "rating_1000.to_csv('rating_1000.csv', index=False)\n",
    "train.to_csv('train.csv', index=False)"
   ]
  },
  {
   "cell_type": "code",
   "execution_count": 735,
   "metadata": {},
   "outputs": [
    {
     "name": "stdout",
     "output_type": "stream",
     "text": [
      "+------+-------+------+-------------------+\n",
      "|userId|movieId|rating|          timestamp|\n",
      "+------+-------+------+-------------------+\n",
      "|   344|      1|   4.0|2001-04-02 23:06:30|\n",
      "|   344|      6|   5.0|2001-04-02 22:56:22|\n",
      "|   344|     21|   4.0|2001-04-02 22:56:22|\n",
      "|   344|     32|   4.0|2001-04-04 00:01:52|\n",
      "|   344|     34|   3.0|2001-04-22 00:05:19|\n",
      "|   344|     42|   3.0|2001-09-11 02:11:14|\n",
      "|   344|     47|   4.0|2001-08-26 00:55:04|\n",
      "|   344|     50|   5.0|2001-04-02 23:04:45|\n",
      "|   344|     63|   3.0|2001-05-20 19:08:20|\n",
      "|   344|     69|   5.0|2001-04-02 23:07:27|\n",
      "|   344|    104|   4.0|2001-04-02 23:09:30|\n",
      "|   344|    110|   5.0|2001-04-02 22:54:15|\n",
      "|   344|    150|   4.0|2001-04-04 00:01:52|\n",
      "|   344|    165|   3.0|2001-04-02 22:55:52|\n",
      "|   344|    170|   2.0|2001-09-11 02:09:13|\n",
      "|   344|    180|   4.0|2001-04-02 23:09:30|\n",
      "|   344|    196|   2.0|2001-08-26 00:51:29|\n",
      "|   344|    223|   5.0|2001-04-02 22:39:32|\n",
      "|   344|    231|   4.0|2001-04-02 23:08:51|\n",
      "|   344|    253|   4.0|2001-08-26 00:50:46|\n",
      "+------+-------+------+-------------------+\n",
      "only showing top 20 rows\n",
      "\n"
     ]
    }
   ],
   "source": [
    "spark = SparkSession.builder.appName('Recommendations').getOrCreate()\n",
    "movies = spark.read.csv(\"movie.csv\",header=True)\n",
    "ratings = spark.read.csv(\"rating_1000.csv\",header=True)\n",
    "ratings = ratings.withColumn(\"userId\", col(\"userId\").cast(\"int\"))\n",
    "ratings = ratings.withColumn(\"movieId\", col(\"movieId\").cast(\"int\"))\n",
    "ratings = ratings.withColumn(\"rating\", col(\"rating\").cast(\"float\"))\n",
    "ratings.show()"
   ]
  },
  {
   "cell_type": "code",
   "execution_count": 736,
   "metadata": {},
   "outputs": [
    {
     "name": "stdout",
     "output_type": "stream",
     "text": [
      "+-------+------+------+-------------------+--------------------+--------------------+\n",
      "|movieId|userId|rating|          timestamp|               title|              genres|\n",
      "+-------+------+------+-------------------+--------------------+--------------------+\n",
      "|      1|   344|   4.0|2001-04-02 23:06:30|    Toy Story (1995)|Adventure|Animati...|\n",
      "|      6|   344|   5.0|2001-04-02 22:56:22|         Heat (1995)|Action|Crime|Thri...|\n",
      "|     21|   344|   4.0|2001-04-02 22:56:22|   Get Shorty (1995)|Comedy|Crime|Thri...|\n",
      "|     32|   344|   4.0|2001-04-04 00:01:52|Twelve Monkeys (a...|Mystery|Sci-Fi|Th...|\n",
      "|     34|   344|   3.0|2001-04-22 00:05:19|         Babe (1995)|      Children|Drama|\n",
      "|     42|   344|   3.0|2001-09-11 02:11:14|Dead Presidents (...|  Action|Crime|Drama|\n",
      "|     47|   344|   4.0|2001-08-26 00:55:04|Seven (a.k.a. Se7...|    Mystery|Thriller|\n",
      "|     50|   344|   5.0|2001-04-02 23:04:45|Usual Suspects, T...|Crime|Mystery|Thr...|\n",
      "|     63|   344|   3.0|2001-05-20 19:08:20|Don't Be a Menace...|        Comedy|Crime|\n",
      "|     69|   344|   5.0|2001-04-02 23:07:27|       Friday (1995)|              Comedy|\n",
      "|    104|   344|   4.0|2001-04-02 23:09:30|Happy Gilmore (1996)|              Comedy|\n",
      "|    110|   344|   5.0|2001-04-02 22:54:15|   Braveheart (1995)|    Action|Drama|War|\n",
      "|    150|   344|   4.0|2001-04-04 00:01:52|    Apollo 13 (1995)|Adventure|Drama|IMAX|\n",
      "|    165|   344|   3.0|2001-04-02 22:55:52|Die Hard: With a ...|Action|Crime|Thri...|\n",
      "|    170|   344|   2.0|2001-09-11 02:09:13|      Hackers (1995)|Action|Adventure|...|\n",
      "|    180|   344|   4.0|2001-04-02 23:09:30|     Mallrats (1995)|      Comedy|Romance|\n",
      "|    196|   344|   2.0|2001-08-26 00:51:29|      Species (1995)|       Horror|Sci-Fi|\n",
      "|    223|   344|   5.0|2001-04-02 22:39:32|       Clerks (1994)|              Comedy|\n",
      "|    231|   344|   4.0|2001-04-02 23:08:51|Dumb & Dumber (Du...|    Adventure|Comedy|\n",
      "|    253|   344|   4.0|2001-08-26 00:50:46|Interview with th...|        Drama|Horror|\n",
      "+-------+------+------+-------------------+--------------------+--------------------+\n",
      "only showing top 20 rows\n",
      "\n"
     ]
    }
   ],
   "source": [
    "movie_ratings = ratings.join(movies, ['movieId'], 'left')\n",
    "movie_ratings.show()"
   ]
  },
  {
   "cell_type": "code",
   "execution_count": 737,
   "metadata": {},
   "outputs": [
    {
     "name": "stdout",
     "output_type": "stream",
     "text": [
      "The ratings dataframe is  98.46% sparse.\n"
     ]
    }
   ],
   "source": [
    "def get_mat_sparsity(ratings):\n",
    "    # Подсчитаем общее количество рейтингов в  данных\n",
    "    count_nonzero = ratings.select(\"rating\").count()\n",
    "\n",
    "    # Подсчитаем количество отдельных идентификаторов пользователей и отдельных идентификаторов фильмов\n",
    "    total_elements = ratings.select(\"userId\").distinct().count() * ratings.select(\"movieId\").distinct().count()\n",
    "\n",
    "    # делим числитель на знаменатель\n",
    "    sparsity = (1.0 - (count_nonzero *1.0)/total_elements)*100\n",
    "    print(\"The ratings dataframe is \", \"%.2f\" % sparsity + \"% sparse.\")\n",
    "    \n",
    "get_mat_sparsity(ratings)"
   ]
  },
  {
   "cell_type": "code",
   "execution_count": 738,
   "metadata": {},
   "outputs": [
    {
     "name": "stdout",
     "output_type": "stream",
     "text": [
      "The ratings dataframe is  98.46% sparse.\n"
     ]
    },
    {
     "name": "stderr",
     "output_type": "stream",
     "text": [
      "                                                                                \r"
     ]
    }
   ],
   "source": [
    "get_mat_sparsity(ratings)"
   ]
  },
  {
   "cell_type": "code",
   "execution_count": 756,
   "metadata": {},
   "outputs": [],
   "source": [
    "(train_, test_) = ratings.randomSplit([0.8, 0.2], seed = 2020) # так же делим на 80% и 20%"
   ]
  },
  {
   "cell_type": "code",
   "execution_count": 278,
   "metadata": {},
   "outputs": [
    {
     "name": "stderr",
     "output_type": "stream",
     "text": [
      "                                                                                \r"
     ]
    }
   ],
   "source": [
    "# Create ALS model\n",
    "als = ALS(\n",
    "         userCol=\"userId\", \n",
    "         itemCol=\"movieId\",\n",
    "         ratingCol=\"rating\", \n",
    "         nonnegative = True, \n",
    "         implicitPrefs = False,\n",
    "         coldStartStrategy=\"drop\"\n",
    ")"
   ]
  },
  {
   "cell_type": "code",
   "execution_count": 280,
   "metadata": {},
   "outputs": [
    {
     "name": "stderr",
     "output_type": "stream",
     "text": [
      "22/04/03 21:21:48 WARN MemoryStore: Not enough space to cache rdd_419_4 in memory! (computed 62.4 MiB so far)\n",
      "[Stage 638:============================>                           (5 + 4) / 10]\r"
     ]
    }
   ],
   "source": [
    "param_grid = ParamGridBuilder() \\ # на этой сетке будем подбирать параметры\n",
    "            .addGrid(als.rank, [10, 50, 100, 150]) \\ # определяем количество скрытых параметров\n",
    "            .addGrid(als.regParam, [.01, .05, .1, .15]) \\ # регуляризация\n",
    "            .build()"
   ]
  },
  {
   "cell_type": "code",
   "execution_count": 281,
   "metadata": {},
   "outputs": [
    {
     "name": "stdout",
     "output_type": "stream",
     "text": [
      "Num models to be tested:  16\n"
     ]
    },
    {
     "name": "stderr",
     "output_type": "stream",
     "text": [
      "[Stage 641:>                                                       (0 + 4) / 10]\r"
     ]
    }
   ],
   "source": [
    "evaluator = RegressionEvaluator(\n",
    "           metricName=\"rmse\", \n",
    "           labelCol=\"rating\", \n",
    "           predictionCol=\"prediction\") \n",
    "print (\"Num models to be tested: \", len(param_grid))"
   ]
  },
  {
   "cell_type": "code",
   "execution_count": 282,
   "metadata": {},
   "outputs": [
    {
     "name": "stderr",
     "output_type": "stream",
     "text": [
      "[Stage 646:======================>                                 (4 + 4) / 10]\r"
     ]
    }
   ],
   "source": [
    "# также учим модель на кросс валидации с k=5\n",
    "cv = CrossValidator(estimator=als, estimatorParamMaps=param_grid, evaluator=evaluator, numFolds=5) "
   ]
  },
  {
   "cell_type": "code",
   "execution_count": 298,
   "metadata": {},
   "outputs": [
    {
     "name": "stderr",
     "output_type": "stream",
     "text": [
      "22/04/03 21:29:14 WARN MemoryStore: Not enough space to cache rdd_419_4 in memory! (computed 62.4 MiB so far)\n",
      "22/04/03 21:35:43 WARN MemoryStore: Not enough space to cache rdd_419_4 in memory! (computed 62.4 MiB so far)\n",
      "22/04/03 21:41:17 WARN MemoryStore: Not enough space to cache rdd_419_4 in memory! (computed 62.4 MiB so far)\n",
      "22/04/03 21:47:23 WARN MemoryStore: Not enough space to cache rdd_419_4 in memory! (computed 62.4 MiB so far)\n",
      "22/04/03 22:11:40 WARN MemoryStore: Not enough space to cache rdd_419_4 in memory! (computed 62.4 MiB so far)\n",
      "22/04/03 22:33:21 WARN MemoryStore: Not enough space to cache rdd_419_4 in memory! (computed 62.4 MiB so far)\n",
      "22/04/03 22:52:40 WARN MemoryStore: Not enough space to cache rdd_419_4 in memory! (computed 62.4 MiB so far)\n",
      "22/04/03 23:11:07 WARN MemoryStore: Not enough space to cache rdd_419_4 in memory! (computed 62.4 MiB so far)\n",
      "[Stage 9570:============>  (8 + 2) / 10][Stage 11976:=======>       (2 + 2) / 4]\r"
     ]
    },
    {
     "name": "stdout",
     "output_type": "stream",
     "text": [
      "0.8638736170448235\n"
     ]
    },
    {
     "name": "stderr",
     "output_type": "stream",
     "text": [
      "[Stage 9574:======================>                                (4 + 4) / 10]\r"
     ]
    }
   ],
   "source": [
    "model = cv.fit(train)\n",
    "# определяем лучшую модель\n",
    "best_model = model.bestModel\n",
    "# предиктим!\n",
    "test_predictions = best_model.transform(test)\n",
    "RMSE = evaluator.evaluate(test_predictions)\n",
    "print(RMSE) # RMSE на тесте = 0.86. Это меньше, чем у SVD"
   ]
  },
  {
   "cell_type": "code",
   "execution_count": 299,
   "metadata": {},
   "outputs": [
    {
     "name": "stdout",
     "output_type": "stream",
     "text": [
      "**Best Model**\n",
      "  Rank: 100\n",
      "  MaxIter: 10\n",
      "  RegParam: 0.15\n"
     ]
    },
    {
     "name": "stderr",
     "output_type": "stream",
     "text": [
      "22/04/04 00:12:12 WARN MemoryStore: Not enough space to cache rdd_419_4 in memory! (computed 62.4 MiB so far)\n",
      "[Stage 12070:=====================>                                (4 + 4) / 10]\r"
     ]
    }
   ],
   "source": [
    "# Лучшая модель\n",
    "print(\"**Best Model**\")\n",
    "print(\"  Rank:\", best_model._java_obj.parent().getRank())\n",
    "print(\"  MaxIter:\", best_model._java_obj.parent().getMaxIter())\n",
    "print(\"  RegParam:\", best_model._java_obj.parent().getRegParam())"
   ]
  },
  {
   "cell_type": "code",
   "execution_count": 1017,
   "metadata": {},
   "outputs": [
    {
     "name": "stderr",
     "output_type": "stream",
     "text": [
      "[Stage 167158:>                                                     (0 + 1) / 1]\r"
     ]
    },
    {
     "name": "stdout",
     "output_type": "stream",
     "text": [
      "RMSE: 0.8638736170448468\n"
     ]
    },
    {
     "name": "stderr",
     "output_type": "stream",
     "text": [
      "                                                                                \r"
     ]
    }
   ],
   "source": [
    "test_predictions = best_model.transform(test_)\n",
    "RMSE = evaluator.evaluate(test_predictions)\n",
    "print('RMSE:', RMSE)"
   ]
  },
  {
   "cell_type": "code",
   "execution_count": 587,
   "metadata": {},
   "outputs": [
    {
     "name": "stderr",
     "output_type": "stream",
     "text": [
      "                                                                                \r"
     ]
    },
    {
     "name": "stdout",
     "output_type": "stream",
     "text": [
      "+------+-------+------+-------------------+----------+\n",
      "|userId|movieId|rating|          timestamp|prediction|\n",
      "+------+-------+------+-------------------+----------+\n",
      "| 49869|   1580|   3.0|2000-07-04 02:13:56| 3.5634058|\n",
      "| 20398|   1645|   3.0|2002-05-06 19:37:07| 2.9750855|\n",
      "|100634|   1580|   3.0|2002-06-23 05:36:19| 3.8279762|\n",
      "| 46586|   1580|   2.0|2000-11-10 03:30:05| 3.5416446|\n",
      "| 46586|   2866|   3.0|2000-11-10 04:13:02| 3.2975342|\n",
      "| 91113|    471|   5.0|1999-09-28 13:41:22|  3.557521|\n",
      "| 91113|   1580|   4.0|1999-09-28 13:39:01|  4.147778|\n",
      "| 46929|   1580|   4.0|2008-01-13 15:23:28|   3.46245|\n",
      "| 46929|   1645|   4.5|2008-01-13 18:05:19| 3.2167037|\n",
      "| 46929|   3175|   3.0|2008-01-13 15:43:36|  3.456325|\n",
      "|  1296|   2366|   4.0|1999-12-22 02:54:07| 3.4777784|\n",
      "| 68365|   1580|   2.0|2006-11-14 16:07:12| 3.2969987|\n",
      "| 22084|    471|   3.0|2006-02-13 04:58:17| 3.3046901|\n",
      "| 22084|   3175|   3.5|2006-02-13 05:58:51| 3.2329915|\n",
      "| 72894|   1580|   5.0|2000-11-21 06:58:48| 3.5436003|\n",
      "| 72894|   2366|   4.0|2000-11-21 06:57:10| 3.3384583|\n",
      "|   587|   1580|   4.0|1999-12-18 01:44:27| 3.3731773|\n",
      "| 78909|   1645|   4.0|2011-07-02 17:32:18| 3.3710384|\n",
      "| 57168|   8638|   3.5|2011-10-18 08:49:24| 3.9143968|\n",
      "| 52441|   1580|   4.5|2008-10-28 19:22:42| 3.6909683|\n",
      "+------+-------+------+-------------------+----------+\n",
      "only showing top 20 rows\n",
      "\n"
     ]
    }
   ],
   "source": [
    "test_predictions.show()"
   ]
  },
  {
   "cell_type": "code",
   "execution_count": 303,
   "metadata": {},
   "outputs": [
    {
     "name": "stderr",
     "output_type": "stream",
     "text": [
      "/Library/Frameworks/Python.framework/Versions/3.9/lib/python3.9/site-packages/pyspark/sql/context.py:125: FutureWarning: Deprecated in 3.0.0. Use SparkSession.builder.getOrCreate() instead.\n",
      "  warnings.warn(\n",
      "[Stage 12071:===========================================>          (8 + 2) / 10]\r"
     ]
    },
    {
     "name": "stdout",
     "output_type": "stream",
     "text": [
      "+------+--------------------+\n",
      "|userId|     recommendations|\n",
      "+------+--------------------+\n",
      "|   587|[{4751, 5.1849074...|\n",
      "|  1031|[{67087, 4.480558...|\n",
      "|  1296|[{4751, 5.230145}...|\n",
      "|  1838|[{65133, 5.636832...|\n",
      "|  2392|[{4751, 5.344425}...|\n",
      "|  2489|[{97225, 3.952307...|\n",
      "|  2721|[{4751, 5.2509546...|\n",
      "|  3449|[{4751, 5.6427317...|\n",
      "|  4617|[{4751, 4.6044607...|\n",
      "|  4773|[{4751, 5.1054544...|\n",
      "+------+--------------------+\n",
      "\n"
     ]
    },
    {
     "name": "stderr",
     "output_type": "stream",
     "text": [
      "[Stage 12072:>                                                     (0 + 4) / 10]\r"
     ]
    }
   ],
   "source": [
    "nrecommendations = best_model.recommendForAllUsers(10)\n",
    "nrecommendations.limit(10).show()"
   ]
  },
  {
   "cell_type": "code",
   "execution_count": 305,
   "metadata": {},
   "outputs": [
    {
     "name": "stderr",
     "output_type": "stream",
     "text": [
      "[Stage 12072:===========================================>          (8 + 2) / 10]\r"
     ]
    },
    {
     "name": "stdout",
     "output_type": "stream",
     "text": [
      "+------+-------+---------+\n",
      "|userId|movieId|   rating|\n",
      "+------+-------+---------+\n",
      "|   587|   4751|5.1849074|\n",
      "|   587|   3816|4.8029127|\n",
      "|   587|   5820|4.6571493|\n",
      "|   587|   3211| 4.653434|\n",
      "|   587|  32203| 4.653434|\n",
      "|   587|  27033|4.5953135|\n",
      "|   587|  27647|4.5775566|\n",
      "|   587|   2932|4.5578327|\n",
      "|   587|   2290| 4.539722|\n",
      "|   587|   8199|4.4948854|\n",
      "+------+-------+---------+\n",
      "\n"
     ]
    },
    {
     "name": "stderr",
     "output_type": "stream",
     "text": [
      "[Stage 12073:=====================>                                (4 + 4) / 10]\r"
     ]
    }
   ],
   "source": [
    "from pyspark.sql.functions import col, explode\n",
    "nrecommendations = nrecommendations\\\n",
    "    .withColumn(\"rec_exp\", explode(\"recommendations\"))\\\n",
    "    .select('userId', col(\"rec_exp.movieId\"), col(\"rec_exp.rating\"))\n",
    "\n",
    "nrecommendations.limit(10).show()"
   ]
  },
  {
   "cell_type": "code",
   "execution_count": 308,
   "metadata": {},
   "outputs": [
    {
     "name": "stderr",
     "output_type": "stream",
     "text": [
      "[Stage 12074:===========>  (8 + 2) / 10][Stage 12383:===========>(92 + 2) / 100]\r"
     ]
    },
    {
     "name": "stdout",
     "output_type": "stream",
     "text": [
      "+-------+------+---------+--------------------+--------------------+\n",
      "|movieId|userId|   rating|               title|              genres|\n",
      "+-------+------+---------+--------------------+--------------------+\n",
      "|   4751|   587|5.1849074|  Hunter, The (1980)|     Action|Thriller|\n",
      "|   3816|   587|4.8029127|Official Story, T...|               Drama|\n",
      "|   5820|   587|4.6571493|Standing in the S...| Documentary|Musical|\n",
      "|   3211|   587| 4.653434|Cry in the Dark, ...|               Drama|\n",
      "|  32203|   587| 4.653434| Brian's Song (1971)|               Drama|\n",
      "|  27033|   587|4.5953135|Kingdom II, The (...|Drama|Horror|Mystery|\n",
      "|  27647|   587|4.5775566|Tipping the Velve...|Comedy|Drama|Romance|\n",
      "|   2932|   587|4.5578327|Days of Heaven (1...|               Drama|\n",
      "|   2290|   587| 4.539722|Stardust Memories...|        Comedy|Drama|\n",
      "|   8199|   587|4.4948854|Ugetsu (Ugetsu mo...|      Drama|Thriller|\n",
      "+-------+------+---------+--------------------+--------------------+\n",
      "\n"
     ]
    },
    {
     "name": "stderr",
     "output_type": "stream",
     "text": [
      "                                                                                \r"
     ]
    }
   ],
   "source": [
    "nrecommendations.join(movies, on='movieId').filter('userId = 587').show()"
   ]
  },
  {
   "cell_type": "code",
   "execution_count": 309,
   "metadata": {},
   "outputs": [
    {
     "name": "stdout",
     "output_type": "stream",
     "text": [
      "+-------+------+------+-------------------+--------------------+--------------------+\n",
      "|movieId|userId|rating|          timestamp|               title|              genres|\n",
      "+-------+------+------+-------------------+--------------------+--------------------+\n",
      "|    162|   587|   5.0|1999-12-13 16:17:49|        Crumb (1994)|         Documentary|\n",
      "|    551|   587|   5.0|1999-12-18 01:42:09|Nightmare Before ...|Animation|Childre...|\n",
      "|    164|   587|   5.0|2000-01-24 03:09:50|Devil in a Blue D...|Crime|Film-Noir|M...|\n",
      "|    318|   587|   5.0|1999-12-13 16:27:23|Shawshank Redempt...|         Crime|Drama|\n",
      "|    356|   587|   5.0|1999-12-19 03:40:03| Forrest Gump (1994)|Comedy|Drama|Roma...|\n",
      "|     34|   587|   5.0|1999-12-19 03:37:30|         Babe (1995)|      Children|Drama|\n",
      "|    367|   587|   5.0|1999-12-19 03:43:47|    Mask, The (1994)|Action|Comedy|Cri...|\n",
      "|      1|   587|   5.0|1999-12-18 01:37:00|    Toy Story (1995)|Adventure|Animati...|\n",
      "|    368|   587|   5.0|1999-12-19 03:27:13|     Maverick (1994)|Adventure|Comedy|...|\n",
      "|    235|   587|   5.0|1999-12-19 03:37:55|      Ed Wood (1994)|        Comedy|Drama|\n",
      "+-------+------+------+-------------------+--------------------+--------------------+\n",
      "\n"
     ]
    },
    {
     "name": "stderr",
     "output_type": "stream",
     "text": [
      "22/04/04 00:48:56 WARN MemoryStore: Not enough space to cache rdd_419_4 in memory! (computed 62.4 MiB so far)\n",
      "[Stage 12605:=======>                                              (4 + 4) / 28]\r"
     ]
    }
   ],
   "source": [
    "ratings.join(movies, on='movieId').filter('userId = 587').sort('rating', ascending=False).limit(10).show()"
   ]
  },
  {
   "cell_type": "code",
   "execution_count": 740,
   "metadata": {},
   "outputs": [
    {
     "name": "stderr",
     "output_type": "stream",
     "text": [
      "                                                                                \r"
     ]
    },
    {
     "data": {
      "text/html": [
       "<div>\n",
       "<style scoped>\n",
       "    .dataframe tbody tr th:only-of-type {\n",
       "        vertical-align: middle;\n",
       "    }\n",
       "\n",
       "    .dataframe tbody tr th {\n",
       "        vertical-align: top;\n",
       "    }\n",
       "\n",
       "    .dataframe thead th {\n",
       "        text-align: right;\n",
       "    }\n",
       "</style>\n",
       "<table border=\"1\" class=\"dataframe\">\n",
       "  <thead>\n",
       "    <tr style=\"text-align: right;\">\n",
       "      <th></th>\n",
       "      <th>userId</th>\n",
       "      <th>movieId</th>\n",
       "      <th>rating</th>\n",
       "      <th>timestamp</th>\n",
       "      <th>prediction</th>\n",
       "    </tr>\n",
       "  </thead>\n",
       "  <tbody>\n",
       "    <tr>\n",
       "      <th>0</th>\n",
       "      <td>49869</td>\n",
       "      <td>1580</td>\n",
       "      <td>3.0</td>\n",
       "      <td>2000-07-04 02:13:56</td>\n",
       "      <td>3.563406</td>\n",
       "    </tr>\n",
       "    <tr>\n",
       "      <th>1</th>\n",
       "      <td>20398</td>\n",
       "      <td>1645</td>\n",
       "      <td>3.0</td>\n",
       "      <td>2002-05-06 19:37:07</td>\n",
       "      <td>2.975085</td>\n",
       "    </tr>\n",
       "    <tr>\n",
       "      <th>2</th>\n",
       "      <td>100634</td>\n",
       "      <td>1580</td>\n",
       "      <td>3.0</td>\n",
       "      <td>2002-06-23 05:36:19</td>\n",
       "      <td>3.827976</td>\n",
       "    </tr>\n",
       "    <tr>\n",
       "      <th>3</th>\n",
       "      <td>46586</td>\n",
       "      <td>1580</td>\n",
       "      <td>2.0</td>\n",
       "      <td>2000-11-10 03:30:05</td>\n",
       "      <td>3.541645</td>\n",
       "    </tr>\n",
       "    <tr>\n",
       "      <th>4</th>\n",
       "      <td>46586</td>\n",
       "      <td>2866</td>\n",
       "      <td>3.0</td>\n",
       "      <td>2000-11-10 04:13:02</td>\n",
       "      <td>3.297534</td>\n",
       "    </tr>\n",
       "    <tr>\n",
       "      <th>...</th>\n",
       "      <td>...</td>\n",
       "      <td>...</td>\n",
       "      <td>...</td>\n",
       "      <td>...</td>\n",
       "      <td>...</td>\n",
       "    </tr>\n",
       "    <tr>\n",
       "      <th>27909</th>\n",
       "      <td>136957</td>\n",
       "      <td>3825</td>\n",
       "      <td>3.5</td>\n",
       "      <td>2005-05-22 12:12:56</td>\n",
       "      <td>3.101645</td>\n",
       "    </tr>\n",
       "    <tr>\n",
       "      <th>27910</th>\n",
       "      <td>136957</td>\n",
       "      <td>46530</td>\n",
       "      <td>3.0</td>\n",
       "      <td>2007-02-04 23:26:33</td>\n",
       "      <td>3.528069</td>\n",
       "    </tr>\n",
       "    <tr>\n",
       "      <th>27911</th>\n",
       "      <td>123926</td>\n",
       "      <td>2706</td>\n",
       "      <td>2.0</td>\n",
       "      <td>2002-03-23 12:26:24</td>\n",
       "      <td>3.208586</td>\n",
       "    </tr>\n",
       "    <tr>\n",
       "      <th>27912</th>\n",
       "      <td>123926</td>\n",
       "      <td>5391</td>\n",
       "      <td>5.0</td>\n",
       "      <td>2003-01-15 12:07:15</td>\n",
       "      <td>3.438686</td>\n",
       "    </tr>\n",
       "    <tr>\n",
       "      <th>27913</th>\n",
       "      <td>123398</td>\n",
       "      <td>48385</td>\n",
       "      <td>1.5</td>\n",
       "      <td>2007-10-04 18:07:36</td>\n",
       "      <td>3.290825</td>\n",
       "    </tr>\n",
       "  </tbody>\n",
       "</table>\n",
       "<p>27914 rows × 5 columns</p>\n",
       "</div>"
      ],
      "text/plain": [
       "       userId  movieId  rating            timestamp  prediction\n",
       "0       49869     1580     3.0  2000-07-04 02:13:56    3.563406\n",
       "1       20398     1645     3.0  2002-05-06 19:37:07    2.975085\n",
       "2      100634     1580     3.0  2002-06-23 05:36:19    3.827976\n",
       "3       46586     1580     2.0  2000-11-10 03:30:05    3.541645\n",
       "4       46586     2866     3.0  2000-11-10 04:13:02    3.297534\n",
       "...       ...      ...     ...                  ...         ...\n",
       "27909  136957     3825     3.5  2005-05-22 12:12:56    3.101645\n",
       "27910  136957    46530     3.0  2007-02-04 23:26:33    3.528069\n",
       "27911  123926     2706     2.0  2002-03-23 12:26:24    3.208586\n",
       "27912  123926     5391     5.0  2003-01-15 12:07:15    3.438686\n",
       "27913  123398    48385     1.5  2007-10-04 18:07:36    3.290825\n",
       "\n",
       "[27914 rows x 5 columns]"
      ]
     },
     "execution_count": 740,
     "metadata": {},
     "output_type": "execute_result"
    }
   ],
   "source": [
    "# а теперь посчитаем nDCG для этой модели. Переведем в пандам и воспользуемся уже написанным кодом\n",
    "als_result = test_predictions.toPandas()\n",
    "als_result"
   ]
  },
  {
   "cell_type": "code",
   "execution_count": 749,
   "metadata": {},
   "outputs": [],
   "source": [
    "ndcg_score_frame_als = pd.DataFrame(columns=['userId', 'ndcg_score']) \n",
    "\n",
    "for user in als_result.userId.unique():\n",
    "    ind = als_result[als_result['userId'] == user]['rating'].sort_values()[-10:].index\n",
    "    result_predict = als_result.iloc[ind].sort_values('rating', ascending=False)\n",
    "    if result_predict.shape[0] == 1:\n",
    "        continue\n",
    "    ndcg = ndcg_score([result_predict['rating']], [result_predict['prediction']])\n",
    "    ndcg_score_frame_als = ndcg_score_frame_als.append({'userId': user,'ndcg_score': ndcg}, ignore_index=True)"
   ]
  },
  {
   "cell_type": "code",
   "execution_count": 1014,
   "metadata": {},
   "outputs": [
    {
     "name": "stdout",
     "output_type": "stream",
     "text": [
      "средняя nDCG: 0.975851853258091\n"
     ]
    }
   ],
   "source": [
    "print('средняя nDCG:',ndcg_score_frame_als.ndcg_score.mean())\n",
    " # ALS здесь тоже обогнала SVD"
   ]
  },
  {
   "cell_type": "markdown",
   "metadata": {},
   "source": [
    "Implicit ALS сдулась :("
   ]
  },
  {
   "cell_type": "code",
   "execution_count": 754,
   "metadata": {},
   "outputs": [],
   "source": [
    "als_impl = ALS(\n",
    "         userCol=\"userId\", \n",
    "         itemCol=\"movieId\",\n",
    "         ratingCol=\"rating\", \n",
    "         nonnegative = True, \n",
    "         implicitPrefs = True, # IMPLICIT\n",
    "         coldStartStrategy=\"drop\"\n",
    ")"
   ]
  },
  {
   "cell_type": "code",
   "execution_count": 752,
   "metadata": {},
   "outputs": [],
   "source": [
    "cv_impl = CrossValidator(estimator=als_impl, estimatorParamMaps=param_grid, evaluator=evaluator, numFolds=5)"
   ]
  },
  {
   "cell_type": "code",
   "execution_count": 758,
   "metadata": {},
   "outputs": [
    {
     "name": "stderr",
     "output_type": "stream",
     "text": [
      "                                                                                \r"
     ]
    },
    {
     "name": "stdout",
     "output_type": "stream",
     "text": [
      "3.246745539948666\n"
     ]
    }
   ],
   "source": [
    "model_impl = cv_impl.fit(train_)\n",
    "best_model_impl = model_impl.bestModel\n",
    "test_predictions_impl = best_model_impl.transform(test_)\n",
    "RMSE = evaluator.evaluate(test_predictions_impl)\n",
    "print(RMSE)"
   ]
  },
  {
   "cell_type": "markdown",
   "metadata": {
    "id": "VZ2kqRf_ZeNY"
   },
   "source": [
    "# Контентный метод + Коллаборативный метод"
   ]
  },
  {
   "cell_type": "markdown",
   "metadata": {},
   "source": [
    "Такая гибридная модель позволит нам решить проблему холодного старта, поскольку мы используем еще и дополнительные данные при обучении - не только старые оценки уже известных пользователей\n",
    "\n",
    "Для обучения модели LightFM воспользуемся одноименной библиотекой\\\n",
    "Эта модель не предсказывает рейтинги, а бинарно говорит, что посмотреть пользователю\\\n",
    "Будем оценивать ее через метрики классификации ROC-AUC"
   ]
  },
  {
   "cell_type": "code",
   "execution_count": 798,
   "metadata": {},
   "outputs": [],
   "source": [
    "movie_ = movie[movie.movieId.isin(rating_1000.movieId.unique())]"
   ]
  },
  {
   "cell_type": "code",
   "execution_count": 910,
   "metadata": {},
   "outputs": [],
   "source": [
    "dataset_movie = Dataset()"
   ]
  },
  {
   "cell_type": "code",
   "execution_count": null,
   "metadata": {},
   "outputs": [],
   "source": [
    "# как дополнительные признаки: определим для каждого пользователя - смотрел\\любит ли он такие то жанры я в каждом жанре"
   ]
  },
  {
   "cell_type": "code",
   "execution_count": 924,
   "metadata": {},
   "outputs": [],
   "source": [
    "uf = []\n",
    "movie\n",
    "for column in movie.columns[3:-2]:\n",
    "    for el in movie[column].unique():\n",
    "        uf.append(f'{column}:{el}')"
   ]
  },
  {
   "cell_type": "code",
   "execution_count": 929,
   "metadata": {},
   "outputs": [
    {
     "data": {
      "text/plain": [
       "array([[344, 1, 4.0, '2001-04-02 23:06:30'],\n",
       "       [344, 6, 5.0, '2001-04-02 22:56:22'],\n",
       "       [344, 21, 4.0, '2001-04-02 22:56:22'],\n",
       "       ...,\n",
       "       [138365, 3108, 2.0, '1999-12-15 22:53:57'],\n",
       "       [138365, 3169, 3.0, '1999-12-24 18:54:38'],\n",
       "       [138365, 3178, 5.0, '2000-01-31 17:29:11']], dtype=object)"
      ]
     },
     "execution_count": 929,
     "metadata": {},
     "output_type": "execute_result"
    }
   ],
   "source": [
    "rating_1000.values"
   ]
  },
  {
   "cell_type": "code",
   "execution_count": 925,
   "metadata": {},
   "outputs": [],
   "source": [
    "dataset_movie.fit(\n",
    "        rating_1000['userId'].unique(), # all the users\n",
    "        rating_1000['movieId'].unique(), # all the items\n",
    "        user_features = uf\n",
    ")"
   ]
  },
  {
   "cell_type": "markdown",
   "metadata": {},
   "source": [
    "В целом, матрица взаимодействий говорит нам о том, взаимодействовал ли вообще пользователь с предметом, а матрица весов количественно оценивает это конкретное взаимодействие."
   ]
  },
  {
   "cell_type": "code",
   "execution_count": 931,
   "metadata": {},
   "outputs": [],
   "source": [
    "(interactions, weights) = dataset_movie.build_interactions([(x[0], x[1], x[2]) for x in rating_1000.values ])"
   ]
  },
  {
   "cell_type": "code",
   "execution_count": 933,
   "metadata": {},
   "outputs": [
    {
     "data": {
      "text/plain": [
       "matrix([[1, 1, 1, ..., 0, 0, 0],\n",
       "        [0, 0, 0, ..., 0, 0, 0],\n",
       "        [0, 0, 0, ..., 0, 0, 0],\n",
       "        ...,\n",
       "        [0, 0, 0, ..., 0, 0, 1],\n",
       "        [0, 0, 0, ..., 0, 0, 0],\n",
       "        [1, 0, 1, ..., 0, 0, 0]], dtype=int32)"
      ]
     },
     "execution_count": 933,
     "metadata": {},
     "output_type": "execute_result"
    }
   ],
   "source": [
    "interactions.todense()"
   ]
  },
  {
   "cell_type": "code",
   "execution_count": 934,
   "metadata": {},
   "outputs": [
    {
     "data": {
      "text/plain": [
       "matrix([[4. , 5. , 4. , ..., 0. , 0. , 0. ],\n",
       "        [0. , 0. , 0. , ..., 0. , 0. , 0. ],\n",
       "        [0. , 0. , 0. , ..., 0. , 0. , 0. ],\n",
       "        ...,\n",
       "        [0. , 0. , 0. , ..., 0. , 0. , 1.5],\n",
       "        [0. , 0. , 0. , ..., 0. , 0. , 0. ],\n",
       "        [3. , 0. , 5. , ..., 0. , 0. , 0. ]], dtype=float32)"
      ]
     },
     "execution_count": 934,
     "metadata": {},
     "output_type": "execute_result"
    }
   ],
   "source": [
    "weights.todense()"
   ]
  },
  {
   "cell_type": "code",
   "execution_count": 989,
   "metadata": {},
   "outputs": [],
   "source": [
    "feature_list = []"
   ]
  },
  {
   "cell_type": "code",
   "execution_count": 993,
   "metadata": {},
   "outputs": [
    {
     "name": "stderr",
     "output_type": "stream",
     "text": [
      "100%|███████████████████████████████████████| 1000/1000 [01:34<00:00, 10.60it/s]\n"
     ]
    }
   ],
   "source": [
    "for user in tqdm(rating_1000.userId.unique()):\n",
    "    movies = rating_1000[rating_1000.userId == user].movieId.unique()\n",
    "    user_list = np.zeros(len(movie.columns[3:-2]))\n",
    "    user_dict = dict(zip(movie.columns[3:-2], [None]*len(movie.columns[3:-2])))\n",
    "    user_list_list = []\n",
    "    for moviee in movies:\n",
    "        user_list += np.array(movie[movie.movieId == moviee][movie.columns[3:-2]])[0]\n",
    "    user_list\n",
    "    for element, name in zip(user_list, user_dict.keys()):\n",
    "        if element > 0:\n",
    "            user_list_list.append(f'{name}:1')\n",
    "        else:\n",
    "            user_list_list.append(f'{name}:0')\n",
    "    feature_list.append(user_list_list)"
   ]
  },
  {
   "cell_type": "code",
   "execution_count": 994,
   "metadata": {},
   "outputs": [],
   "source": [
    "user_tuple = list(zip(rating_1000.userId.unique(), feature_list))"
   ]
  },
  {
   "cell_type": "code",
   "execution_count": 995,
   "metadata": {},
   "outputs": [],
   "source": [
    "user_features = dataset_movie.build_user_features(user_tuple, normalize= False)"
   ]
  },
  {
   "cell_type": "code",
   "execution_count": 997,
   "metadata": {},
   "outputs": [],
   "source": [
    "user_id_map, user_feature_map, item_id_map, item_feature_map = dataset_movie.mapping()\n",
    "# user_feature_map"
   ]
  },
  {
   "cell_type": "code",
   "execution_count": 1013,
   "metadata": {},
   "outputs": [
    {
     "data": {
      "text/plain": [
       "<lightfm.lightfm.LightFM at 0x7f82909153d0>"
      ]
     },
     "execution_count": 1013,
     "metadata": {},
     "output_type": "execute_result"
    }
   ],
   "source": [
    "model = LightFM(loss='warp')\n",
    "model.fit(interactions,\n",
    "      user_features= user_features,\n",
    "      sample_weight= weights,\n",
    "      epochs=10)"
   ]
  },
  {
   "cell_type": "code",
   "execution_count": 1000,
   "metadata": {},
   "outputs": [
    {
     "name": "stdout",
     "output_type": "stream",
     "text": [
      "Гибридная модель, AUC: 0.92848206\n"
     ]
    }
   ],
   "source": [
    "train_auc = auc_score(model,\n",
    "                      interactions,\n",
    "                      user_features=user_features\n",
    "                     ).mean()\n",
    "print('Гибридная модель, AUC: %s' % train_auc)"
   ]
  },
  {
   "cell_type": "code",
   "execution_count": 1001,
   "metadata": {},
   "outputs": [
    {
     "name": "stdout",
     "output_type": "stream",
     "text": [
      "Гибридная модель, AUC: 0.968296\n"
     ]
    }
   ],
   "source": [
    "model = LightFM(loss='warp')\n",
    "model.fit(interactions,\n",
    "      user_features= user_features,\n",
    "      sample_weight= weights,\n",
    "      epochs=100)\n",
    "\n",
    "train_auc = auc_score(model,\n",
    "                      interactions,\n",
    "                      user_features=user_features\n",
    "                     ).mean()\n",
    "print('Гибридная модель, AUC: %s' % train_auc)"
   ]
  },
  {
   "cell_type": "code",
   "execution_count": null,
   "metadata": {},
   "outputs": [],
   "source": [
    "learning_rate=0.90,\n",
    "                no_components=150,\n",
    "                user_alpha=0.000005"
   ]
  },
  {
   "cell_type": "code",
   "execution_count": 1004,
   "metadata": {},
   "outputs": [
    {
     "name": "stdout",
     "output_type": "stream",
     "text": [
      "Гибридная модель, AUC: 0.6184613\n"
     ]
    }
   ],
   "source": [
    "model = LightFM(loss='warp', learning_rate=0.90) #нда\n",
    "model.fit(interactions,\n",
    "      user_features= user_features,\n",
    "      sample_weight= weights,\n",
    "      epochs=100)\n",
    "\n",
    "train_auc = auc_score(model,\n",
    "                      interactions,\n",
    "                      user_features=user_features\n",
    "                     ).mean()\n",
    "print('Гибридная модель, AUC: %s' % train_auc)"
   ]
  },
  {
   "cell_type": "code",
   "execution_count": 1005,
   "metadata": {},
   "outputs": [
    {
     "name": "stdout",
     "output_type": "stream",
     "text": [
      "Гибридная модель, AUC: 0.998409\n"
     ]
    }
   ],
   "source": [
    "model = LightFM(loss='warp', no_components=100) \n",
    "model.fit(interactions,\n",
    "      user_features= user_features,\n",
    "      sample_weight= weights,\n",
    "      epochs=100)\n",
    "\n",
    "train_auc = auc_score(model,\n",
    "                      interactions,\n",
    "                      user_features=user_features\n",
    "                     ).mean()\n",
    "print('Гибридная модель, AUC: %s' % train_auc)"
   ]
  },
  {
   "cell_type": "markdown",
   "metadata": {},
   "source": [
    "Оценим теперь на разделенной выборке"
   ]
  },
  {
   "cell_type": "code",
   "execution_count": 1011,
   "metadata": {},
   "outputs": [],
   "source": [
    "train_new, test_new = cross_validation.random_train_test_split(interactions)"
   ]
  },
  {
   "cell_type": "code",
   "execution_count": 1019,
   "metadata": {},
   "outputs": [
    {
     "data": {
      "text/plain": [
       "<lightfm.lightfm.LightFM at 0x7f82909173d0>"
      ]
     },
     "execution_count": 1019,
     "metadata": {},
     "output_type": "execute_result"
    }
   ],
   "source": [
    "model = LightFM(loss='warp')\n",
    "model.fit(train_new,\n",
    "      user_features= user_features,\n",
    "      epochs=10)"
   ]
  },
  {
   "cell_type": "code",
   "execution_count": 1024,
   "metadata": {},
   "outputs": [
    {
     "name": "stdout",
     "output_type": "stream",
     "text": [
      "Гибридная модель, AUC: 0.9075383\n"
     ]
    }
   ],
   "source": [
    "train_auc = auc_score(model,\n",
    "                      test_new,\n",
    "                      user_features=user_features\n",
    "                     ).mean()\n",
    "print('Гибридная модель, AUC: %s' % train_auc)"
   ]
  },
  {
   "cell_type": "code",
   "execution_count": 1029,
   "metadata": {},
   "outputs": [
    {
     "data": {
      "text/plain": [
       "<lightfm.lightfm.LightFM at 0x7f8290915160>"
      ]
     },
     "execution_count": 1029,
     "metadata": {},
     "output_type": "execute_result"
    }
   ],
   "source": [
    "model = LightFM(loss='warp', no_components=100) \n",
    "model.fit(train_new, user_features= user_features, epochs=100)"
   ]
  },
  {
   "cell_type": "code",
   "execution_count": 1032,
   "metadata": {},
   "outputs": [
    {
     "name": "stdout",
     "output_type": "stream",
     "text": [
      "Гибридная модель, трейн, AUC: 0.99857545\n"
     ]
    }
   ],
   "source": [
    "train_auc = auc_score(model,\n",
    "                      train_new,\n",
    "                      user_features=user_features\n",
    "                     ).mean()\n",
    "print('Гибридная модель, трейн, AUC: %s' % train_auc)"
   ]
  },
  {
   "cell_type": "code",
   "execution_count": 1034,
   "metadata": {},
   "outputs": [
    {
     "name": "stdout",
     "output_type": "stream",
     "text": [
      "Гибридная модель, тест, AUC: 0.91582364\n"
     ]
    }
   ],
   "source": [
    "train_auc = auc_score(model,\n",
    "                      test_new,\n",
    "                      user_features=user_features\n",
    "                     ).mean()\n",
    "print('Гибридная модель, тест, AUC: %s' % train_auc)"
   ]
  },
  {
   "cell_type": "markdown",
   "metadata": {},
   "source": [
    "## Выводы/Итог"
   ]
  },
  {
   "cell_type": "markdown",
   "metadata": {},
   "source": [
    "В этом тз я рассмотрела три модели: SVD, ALS (коллаборативные) и LightFM (гибридная)\\\n",
    "Для оценки коллаборативных моделей, предсказывающих рейтинги для фильмов от пользователей я использовала метрики RMSE, nDCG как для задач регрессии\\\n",
    "Для оценки LightFM я использовала ROC_AUC как для задачи классификации.\n",
    "Лучшие модели:\\\n",
    "    * **SVD**, RMSE: 0.926, nDCG: 0.968\\\n",
    "    * **ALS**, RMSE: 0.86, nDCG: 0.976\\\n",
    "    * **LightFM**, AUC-ROC: 0.998 (на трейне), 0.92 (на тесте)\n",
    "\n"
   ]
  },
  {
   "cell_type": "code",
   "execution_count": 1036,
   "metadata": {},
   "outputs": [
    {
     "data": {
      "text/html": [
       "<img src=\"https://i.pinimg.com/originals/f9/ec/d9/f9ecd9df0dda3b85b93e19364ec1618e.jpg\"/>"
      ],
      "text/plain": [
       "<IPython.core.display.Image object>"
      ]
     },
     "execution_count": 1036,
     "metadata": {},
     "output_type": "execute_result"
    }
   ],
   "source": [
    "from IPython.display import Image\n",
    "from IPython.core.display import HTML \n",
    "Image(url= \"https://i.pinimg.com/originals/f9/ec/d9/f9ecd9df0dda3b85b93e19364ec1618e.jpg\")"
   ]
  },
  {
   "cell_type": "code",
   "execution_count": null,
   "metadata": {},
   "outputs": [],
   "source": []
  }
 ],
 "metadata": {
  "colab": {
   "collapsed_sections": [],
   "name": "VK_test.ipynb",
   "provenance": []
  },
  "kernelspec": {
   "display_name": "Python 3 (ipykernel)",
   "language": "python",
   "name": "python3"
  },
  "language_info": {
   "codemirror_mode": {
    "name": "ipython",
    "version": 3
   },
   "file_extension": ".py",
   "mimetype": "text/x-python",
   "name": "python",
   "nbconvert_exporter": "python",
   "pygments_lexer": "ipython3",
   "version": "3.9.4"
  }
 },
 "nbformat": 4,
 "nbformat_minor": 4
}
